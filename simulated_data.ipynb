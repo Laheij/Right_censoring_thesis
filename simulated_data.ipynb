{
 "cells": [
  {
   "cell_type": "code",
   "execution_count": 1,
   "metadata": {},
   "outputs": [],
   "source": [
    "\n",
    "from sklearn.datasets import make_regression\n",
    "import numpy as np\n",
    "import pandas as pd\n",
    "from scipy.stats import expon\n",
    "import pandas as pd\n",
    "import numpy as np\n",
    "\n",
    "\n",
    "import pandas as pd\n",
    "import matplotlib.pyplot as plt\n",
    "import numpy as np\n",
    "\n",
    "%matplotlib inline\n",
    "\n",
    "from sklearn import set_config\n",
    "from sklearn.model_selection import train_test_split\n",
    "from sklearn.preprocessing import OrdinalEncoder\n",
    "\n",
    "from sksurv.datasets import load_gbsg2\n",
    "from sksurv.preprocessing import OneHotEncoder\n",
    "from sksurv.ensemble import RandomSurvivalForest\n",
    "from sksurv.metrics import brier_score\n",
    "\n",
    "from sksurv.metrics import (\n",
    "    concordance_index_censored,\n",
    "    concordance_index_ipcw,\n",
    "    cumulative_dynamic_auc,\n",
    "    integrated_brier_score,\n",
    ")\n",
    "\n",
    "from sklearn.model_selection import KFold"
   ]
  },
  {
   "cell_type": "code",
   "execution_count": 2,
   "metadata": {},
   "outputs": [],
   "source": [
    "from sklearn.datasets import make_regression\n",
    "\n",
    "import numpy as np\n",
    "n_samples = 1000\n",
    "hazard_ratio = 2.0\n",
    "random_state = 42\n",
    "X, y = make_regression(n_samples=n_samples, n_features=10, noise=1, random_state=n_samples)\n",
    "time_event =  abs(y)\n",
    "event = np.full(n_samples, True)\n",
    "max_time = max(y)\n",
    "from sksurv.util import Surv\n",
    "yt = Surv.from_arrays(event=event, time=time_event)"
   ]
  },
  {
   "cell_type": "code",
   "execution_count": 3,
   "metadata": {},
   "outputs": [],
   "source": [
    "X_train, X_test, y_train, y_test = train_test_split(X, yt, test_size=0.2, random_state=random_state)"
   ]
  },
  {
   "cell_type": "markdown",
   "metadata": {},
   "source": [
    "# Create censored data\n"
   ]
  },
  {
   "cell_type": "code",
   "execution_count": 32,
   "metadata": {},
   "outputs": [],
   "source": [
    "\n",
    "def censor_data(data):\n",
    "# Generate a random censoring amount between 0.1 and 0.3\n",
    "    random_censoring = np.random.uniform(0.1, 0.3)\n",
    "\n",
    "# Determine the number of observations to censor\n",
    "    n_to_censor = int(len(data) * random_censoring)\n",
    "\n",
    "# Ensure we do not exceed the length of the DataFrame\n",
    "    n_to_censor = min(n_to_censor, len(data))\n",
    "\n",
    "# Randomly select indices to censor\n",
    "    counter_list = np.random.choice(len(data), n_to_censor, replace=False)\n",
    "\n",
    "    data_cen = pd.DataFrame(columns=['event','time'])\n",
    "    counter = 0\n",
    "    for event, time in data:\n",
    "    \n",
    "        if counter in counter_list:\n",
    "            event = False\n",
    "            time_cen = np.random.uniform(low=0, high=time, size=1)\n",
    "            time = time_cen\n",
    "       \n",
    "\n",
    "    \n",
    "        \n",
    "        data_cen.loc[counter] =  [event,time]\n",
    "        counter += 1\n",
    "    return data_cen\n"
   ]
  },
  {
   "cell_type": "code",
   "execution_count": 33,
   "metadata": {},
   "outputs": [],
   "source": [
    "y_cen = censor_data(yt)\n",
    "yt_cen = Surv.from_arrays(event=y_cen['event'], time=y_cen['time'])"
   ]
  },
  {
   "cell_type": "markdown",
   "metadata": {},
   "source": [
    "## create methods data\n",
    "#CCA"
   ]
  },
  {
   "cell_type": "code",
   "execution_count": null,
   "metadata": {},
   "outputs": [],
   "source": [
    "cca_df= pd.DataFrame(X).join(pd.DataFrame(yt_cen))\n",
    "cca_data = cca_df[cca_df['event']==True]\n",
    "cca_yt = Surv.from_arrays(event=cca_data['event'], time=cca_data['time'])\n",
    "cca_X = cca_data[cca_data.columns[:-2]]"
   ]
  },
  {
   "cell_type": "markdown",
   "metadata": {},
   "source": [
    "## Plot the difference in time of the dataset"
   ]
  },
  {
   "cell_type": "code",
   "execution_count": 40,
   "metadata": {},
   "outputs": [
    {
     "data": {
      "image/png": "[encoded data removed]",
      "text/plain": [
       "<Figure size 640x480 with 1 Axes>"
      ]
     },
     "metadata": {},
     "output_type": "display_data"
    }
   ],
   "source": [
    "plt.hist(yt['time'], bins='auto', label= 'Simulated data')  # arguments are passed to np.histogram\n",
    "plt.hist(yt_cen['time'], bins='auto', label= 'Simulated data censored')  # arguments are passed to np.histogram\n",
    "plt.hist(cca_yt['time'], bins='auto', label= 'Complete case analysis data')  # arguments are passed to np.histogram\n",
    "plt.title(\"Histogram with 'auto' bins\")\n",
    "plt.legend()\n",
    "plt.show()"
   ]
  },
  {
   "cell_type": "markdown",
   "metadata": {},
   "source": [
    "#Complete Case analyses\n",
    "Checking if event equals True, else delete;"
   ]
  },
  {
   "cell_type": "code",
   "execution_count": 36,
   "metadata": {},
   "outputs": [],
   "source": [
    "cca_df= pd.DataFrame(X).join(pd.DataFrame(yt_cen))\n",
    "cca_data = cca_df[cca_df['event']==True]\n",
    "cca_yt = Surv.from_arrays(event=cca_data['event'], time=cca_data['time'])\n",
    "cca_X = cca_data[cca_data.columns[:-2]]"
   ]
  },
  {
   "cell_type": "markdown",
   "metadata": {},
   "source": [
    "# Metric functions"
   ]
  },
  {
   "cell_type": "code",
   "execution_count": 41,
   "metadata": {},
   "outputs": [],
   "source": [
    "## Create function to test all metrics in one swoop\n",
    "\n",
    "def test_metrics(models, X_train = X_train, y_train = y_train, X_test = X_test, y_test=y_test):\n",
    "    from sksurv.metrics import (\n",
    "    concordance_index_censored,\n",
    "    concordance_index_ipcw,\n",
    "    cumulative_dynamic_auc,\n",
    "    integrated_brier_score, brier_score\n",
    ")\n",
    "    print(len(models))\n",
    "\n",
    "    metrics_dic = {}\n",
    "    # Max time calculation for evaluation\n",
    "    max_time_test = round(max(y_test['time']),0)-1\n",
    "    for model in models:\n",
    "        scores = {}\n",
    "    #c-index\n",
    "        c_index = rsf.score(X_test, y_test)\n",
    "        scores['C-index'] = round(c_index,3)\n",
    "\n",
    "\n",
    "   \n",
    "    # Brier score\n",
    "        survs = model.predict_survival_function(X_test)\n",
    "\n",
    "    \n",
    "        preds = [fn(max_time_test) for fn in survs]\n",
    "        score_brier = brier_score(y_train, y_test, preds, max_time_test)\n",
    "        scores['Brier score'] = round(float(score_brier[1]),4)\n",
    "\n",
    "\n",
    "        metrics_dic[f'{str(model)}'] = scores\n",
    "\n",
    "\n",
    "    return metrics_dic\n",
    "\n",
    "def time_dependent_roc(models, X_train = X_train, y_train = y_train, X_test = X_test, y_test=y_test):\n",
    "    max_time_test = round(max(y_test['time']),0)-1\n",
    "    times = np.arange(8, max_time_test, 24) \n",
    "    model_auc_dic = {}\n",
    "    for model in models:\n",
    "        temp_dic = {}\n",
    "        temp_dic[f'{model}_funcs'] = model.predict_cumulative_hazard_function(X_test, return_array=False)\n",
    "        temp_dic[f'{str(model)}_scores'] = np.vstack([chf(times) for chf in temp_dic[f'{model}_funcs']])\n",
    "\n",
    "\n",
    "        temp_dic[f'{str(model)}_auc'], temp_dic[f'{str(model)}_mean_auc'] = cumulative_dynamic_auc(y_train, y_test, temp_dic[f'{str(model)}_scores'], times)\n",
    "        #print(temp_dic)\n",
    "        plt.plot(times, temp_dic[f'{str(model)}_auc'] , \"o-\", label=f\"RSF (mean AUC = {temp_dic[f'{str(model)}_mean_auc']})\")\n",
    "    plt.xlabel(\"days from enrollment\")\n",
    "    plt.ylabel(\"time-dependent AUC\")\n",
    "    plt.legend(loc=\"lower center\")\n",
    "    plt.grid(True)"
   ]
  },
  {
   "cell_type": "markdown",
   "metadata": {},
   "source": [
    "# Basline model"
   ]
  },
  {
   "cell_type": "code",
   "execution_count": null,
   "metadata": {},
   "outputs": [],
   "source": [
    "# basic RSF model\n",
    "rsf = RandomSurvivalForest(random_state = random_state)\n",
    "rsf.fit(X_train, y_train)\n",
    "rsf.score(X_test, y_test)\n",
    "\n"
   ]
  },
  {
   "cell_type": "markdown",
   "metadata": {},
   "source": [
    "## Creating models using the different methods"
   ]
  },
  {
   "cell_type": "code",
   "execution_count": null,
   "metadata": {},
   "outputs": [],
   "source": [
    "# basic RSF model\n",
    "rsf = RandomSurvivalForest(random_state = random_state)\n",
    "rsf_cen = rsf.fit(X_train_cen, y_train_cen)\n",
    "rsf_cen.score(X_tes_cen, y_test_cen)\n"
   ]
  },
  {
   "cell_type": "code",
   "execution_count": null,
   "metadata": {},
   "outputs": [],
   "source": [
    "## Censored model\n",
    "\n",
    "X_train_cen, X_tes_cen, y_train_cen, y_test_cen = train_test_split(X, yt_cen, test_size=0.2, random_state=random_state)"
   ]
  },
  {
   "cell_type": "code",
   "execution_count": null,
   "metadata": {},
   "outputs": [],
   "source": [
    "def complete_case_analysis(basemodel, X, y):\n",
    "    cca_df= pd.DataFrame(X).join(pd.DataFrame(yt_cen))\n",
    "    cca_data = cca_df[cca_df['event']==True]\n",
    "    cca_yt = Surv.from_arrays(event=cca_data['event'], time=cca_data['time'])\n",
    "    cca_X = cca_data[cca_data.columns[:-2]]\n",
    "\n",
    "    X_train_cca, X_tes_cca, y_train_cca, y_test_cca = train_test_split(cca_X, cca_yt, test_size=0.2, random_state=random_state)\n",
    "\n",
    "    rsf_cca = rsf.fit(X_train_cca, y_train_cca)\n",
    "    \n",
    "\n",
    "    results = test_metrics([rsf_cca], X_train_cca,  y_train_cca, X_tes_cca, y_test_cca)\n",
    "    plot = time_dependent_roc([rsf_cca], X_train_cca,  y_train_cca, X_tes_cca, y_test_cca)\n",
    "    return results, plot"
   ]
  },
  {
   "cell_type": "code",
   "execution_count": null,
   "metadata": {},
   "outputs": [],
   "source": [
    "## MLE\n",
    "\n"
   ]
  },
  {
   "cell_type": "code",
   "execution_count": null,
   "metadata": {},
   "outputs": [],
   "source": [
    "## STUART"
   ]
  },
  {
   "cell_type": "code",
   "execution_count": 70,
   "metadata": {},
   "outputs": [],
   "source": [
    "## ICPW\n",
    "\n",
    "def icpw_model(basemodel, X, yt):\n",
    "    from sklearn.linear_model import LogisticRegression\n",
    "# Fit a logistic regression model to predict censoring\n",
    "    X_censor =  X\n",
    "\n",
    "    y_censor = 1  - yt_cen['event'].astype('int')  # 1 for censored, 0 for event\n",
    "\n",
    "#cca_yt = Surv.from_arrays(event=cca_data['event'], time=cca_data['time'])\n",
    "    model = LogisticRegression()\n",
    "    model.fit(X_censor, y_censor)\n",
    "\n",
    "    yt = pd.DataFrame(columns=['event', 'time'], data= yt)\n",
    "# Predict the probability of being censored\n",
    "    censor_prob = model.predict_proba(X_censor)[:, 1]\n",
    "    yt['weights'] = 1 / censor_prob\n",
    "    X_train, X_test, y_train, y_test = train_test_split(X, yt, test_size=0.2, random_state=random_state)\n",
    "\n",
    "\n",
    "    rsf_ICPW = basemodel.fit(X_censor, Surv.from_arrays(event=yt['event'], time=yt['time']), yt['weights'])\n",
    "\n",
    "    results = test_metrics([rsf_ICPW], X_train,  y_train, X_test, y_test)\n",
    "    plot = time_dependent_roc([rsf_ICPW], X_train,  y_train, X_test, y_test)\n",
    "\n",
    "    return results, plot\n"
   ]
  },
  {
   "cell_type": "code",
   "execution_count": 71,
   "metadata": {},
   "outputs": [
    {
     "ename": "TypeError",
     "evalue": "a bytes-like object is required, not 'Series'",
     "output_type": "error",
     "traceback": [
      "\u001b[0;31m---------------------------------------------------------------------------\u001b[0m",
      "\u001b[0;31mTypeError\u001b[0m                                 Traceback (most recent call last)",
      "Cell \u001b[0;32mIn[71], line 1\u001b[0m\n\u001b[0;32m----> 1\u001b[0m result, plot \u001b[38;5;241m=\u001b[39m \u001b[43micpw_model\u001b[49m\u001b[43m(\u001b[49m\u001b[43mrsf\u001b[49m\u001b[43m,\u001b[49m\u001b[43m \u001b[49m\u001b[43mX\u001b[49m\u001b[43m,\u001b[49m\u001b[43myt\u001b[49m\u001b[43m)\u001b[49m\n\u001b[1;32m      2\u001b[0m result\n",
      "Cell \u001b[0;32mIn[70], line 21\u001b[0m, in \u001b[0;36micpw_model\u001b[0;34m(basemodel, X, yt)\u001b[0m\n\u001b[1;32m     17\u001b[0m yt[\u001b[38;5;124m'\u001b[39m\u001b[38;5;124mweights\u001b[39m\u001b[38;5;124m'\u001b[39m] \u001b[38;5;241m=\u001b[39m \u001b[38;5;241m1\u001b[39m \u001b[38;5;241m/\u001b[39m censor_prob\n\u001b[1;32m     18\u001b[0m X_train, X_test, y_train, y_test \u001b[38;5;241m=\u001b[39m train_test_split(X, yt, test_size\u001b[38;5;241m=\u001b[39m\u001b[38;5;241m0.2\u001b[39m, random_state\u001b[38;5;241m=\u001b[39mrandom_state)\n\u001b[0;32m---> 21\u001b[0m rsf_ICPW \u001b[38;5;241m=\u001b[39m \u001b[43mbasemodel\u001b[49m\u001b[38;5;241;43m.\u001b[39;49m\u001b[43mfit\u001b[49m\u001b[43m(\u001b[49m\u001b[43mX_censor\u001b[49m\u001b[43m,\u001b[49m\u001b[43m \u001b[49m\u001b[43mSurv\u001b[49m\u001b[38;5;241;43m.\u001b[39;49m\u001b[43mfrom_arrays\u001b[49m\u001b[43m(\u001b[49m\u001b[43mevent\u001b[49m\u001b[38;5;241;43m=\u001b[39;49m\u001b[43myt\u001b[49m\u001b[43m[\u001b[49m\u001b[38;5;124;43m'\u001b[39;49m\u001b[38;5;124;43mevent\u001b[39;49m\u001b[38;5;124;43m'\u001b[39;49m\u001b[43m]\u001b[49m\u001b[43m,\u001b[49m\u001b[43m \u001b[49m\u001b[43mtime\u001b[49m\u001b[38;5;241;43m=\u001b[39;49m\u001b[43myt\u001b[49m\u001b[43m[\u001b[49m\u001b[38;5;124;43m'\u001b[39;49m\u001b[38;5;124;43mtime\u001b[39;49m\u001b[38;5;124;43m'\u001b[39;49m\u001b[43m]\u001b[49m\u001b[43m)\u001b[49m\u001b[43m,\u001b[49m\u001b[43m \u001b[49m\u001b[43myt\u001b[49m\u001b[43m[\u001b[49m\u001b[38;5;124;43m'\u001b[39;49m\u001b[38;5;124;43mweights\u001b[39;49m\u001b[38;5;124;43m'\u001b[39;49m\u001b[43m]\u001b[49m\u001b[43m)\u001b[49m\n\u001b[1;32m     23\u001b[0m results \u001b[38;5;241m=\u001b[39m test_metrics([rsf_ICPW], X_train,  y_train, X_test, y_test)\n\u001b[1;32m     24\u001b[0m plot \u001b[38;5;241m=\u001b[39m time_dependent_roc([rsf_ICPW], X_train,  y_train, X_test, y_test)\n",
      "File \u001b[0;32m/opt/anaconda3/envs/datascience/lib/python3.11/site-packages/sksurv/ensemble/forest.py:148\u001b[0m, in \u001b[0;36m_BaseSurvivalForest.fit\u001b[0;34m(self, X, y, sample_weight)\u001b[0m\n\u001b[1;32m    137\u001b[0m y_tree \u001b[38;5;241m=\u001b[39m (\n\u001b[1;32m    138\u001b[0m     y_numeric,\n\u001b[1;32m    139\u001b[0m     \u001b[38;5;28mself\u001b[39m\u001b[38;5;241m.\u001b[39munique_times_,\n\u001b[1;32m    140\u001b[0m     \u001b[38;5;28mself\u001b[39m\u001b[38;5;241m.\u001b[39mis_event_time_,\n\u001b[1;32m    141\u001b[0m )\n\u001b[1;32m    142\u001b[0m \u001b[38;5;66;03m# Parallel loop: we prefer the threading backend as the Cython code\u001b[39;00m\n\u001b[1;32m    143\u001b[0m \u001b[38;5;66;03m# for fitting the trees is internally releasing the Python GIL\u001b[39;00m\n\u001b[1;32m    144\u001b[0m \u001b[38;5;66;03m# making threading more efficient than multiprocessing in\u001b[39;00m\n\u001b[1;32m    145\u001b[0m \u001b[38;5;66;03m# that case. However, for joblib 0.12+ we respect any\u001b[39;00m\n\u001b[1;32m    146\u001b[0m \u001b[38;5;66;03m# parallel_backend contexts set at a higher level,\u001b[39;00m\n\u001b[1;32m    147\u001b[0m \u001b[38;5;66;03m# since correctness does not rely on using threads.\u001b[39;00m\n\u001b[0;32m--> 148\u001b[0m trees \u001b[38;5;241m=\u001b[39m \u001b[43mParallel\u001b[49m\u001b[43m(\u001b[49m\u001b[43mn_jobs\u001b[49m\u001b[38;5;241;43m=\u001b[39;49m\u001b[38;5;28;43mself\u001b[39;49m\u001b[38;5;241;43m.\u001b[39;49m\u001b[43mn_jobs\u001b[49m\u001b[43m,\u001b[49m\u001b[43m \u001b[49m\u001b[43mverbose\u001b[49m\u001b[38;5;241;43m=\u001b[39;49m\u001b[38;5;28;43mself\u001b[39;49m\u001b[38;5;241;43m.\u001b[39;49m\u001b[43mverbose\u001b[49m\u001b[43m,\u001b[49m\u001b[43m \u001b[49m\u001b[43mprefer\u001b[49m\u001b[38;5;241;43m=\u001b[39;49m\u001b[38;5;124;43m\"\u001b[39;49m\u001b[38;5;124;43mthreads\u001b[39;49m\u001b[38;5;124;43m\"\u001b[39;49m\u001b[43m)\u001b[49m\u001b[43m(\u001b[49m\n\u001b[1;32m    149\u001b[0m \u001b[43m    \u001b[49m\u001b[43mdelayed\u001b[49m\u001b[43m(\u001b[49m\u001b[43m_parallel_build_trees\u001b[49m\u001b[43m)\u001b[49m\u001b[43m(\u001b[49m\n\u001b[1;32m    150\u001b[0m \u001b[43m        \u001b[49m\u001b[43mt\u001b[49m\u001b[43m,\u001b[49m\n\u001b[1;32m    151\u001b[0m \u001b[43m        \u001b[49m\u001b[38;5;28;43mself\u001b[39;49m\u001b[38;5;241;43m.\u001b[39;49m\u001b[43mbootstrap\u001b[49m\u001b[43m,\u001b[49m\n\u001b[1;32m    152\u001b[0m \u001b[43m        \u001b[49m\u001b[43mX\u001b[49m\u001b[43m,\u001b[49m\n\u001b[1;32m    153\u001b[0m \u001b[43m        \u001b[49m\u001b[43my_tree\u001b[49m\u001b[43m,\u001b[49m\n\u001b[1;32m    154\u001b[0m \u001b[43m        \u001b[49m\u001b[43msample_weight\u001b[49m\u001b[43m,\u001b[49m\n\u001b[1;32m    155\u001b[0m \u001b[43m        \u001b[49m\u001b[43mi\u001b[49m\u001b[43m,\u001b[49m\n\u001b[1;32m    156\u001b[0m \u001b[43m        \u001b[49m\u001b[38;5;28;43mlen\u001b[39;49m\u001b[43m(\u001b[49m\u001b[43mtrees\u001b[49m\u001b[43m)\u001b[49m\u001b[43m,\u001b[49m\n\u001b[1;32m    157\u001b[0m \u001b[43m        \u001b[49m\u001b[43mverbose\u001b[49m\u001b[38;5;241;43m=\u001b[39;49m\u001b[38;5;28;43mself\u001b[39;49m\u001b[38;5;241;43m.\u001b[39;49m\u001b[43mverbose\u001b[49m\u001b[43m,\u001b[49m\n\u001b[1;32m    158\u001b[0m \u001b[43m        \u001b[49m\u001b[43mn_samples_bootstrap\u001b[49m\u001b[38;5;241;43m=\u001b[39;49m\u001b[43mn_samples_bootstrap\u001b[49m\u001b[43m,\u001b[49m\n\u001b[1;32m    159\u001b[0m \u001b[43m    \u001b[49m\u001b[43m)\u001b[49m\n\u001b[1;32m    160\u001b[0m \u001b[43m    \u001b[49m\u001b[38;5;28;43;01mfor\u001b[39;49;00m\u001b[43m \u001b[49m\u001b[43mi\u001b[49m\u001b[43m,\u001b[49m\u001b[43m \u001b[49m\u001b[43mt\u001b[49m\u001b[43m \u001b[49m\u001b[38;5;129;43;01min\u001b[39;49;00m\u001b[43m \u001b[49m\u001b[38;5;28;43menumerate\u001b[39;49m\u001b[43m(\u001b[49m\u001b[43mtrees\u001b[49m\u001b[43m)\u001b[49m\n\u001b[1;32m    161\u001b[0m \u001b[43m\u001b[49m\u001b[43m)\u001b[49m\n\u001b[1;32m    163\u001b[0m \u001b[38;5;66;03m# Collect newly grown trees\u001b[39;00m\n\u001b[1;32m    164\u001b[0m \u001b[38;5;28mself\u001b[39m\u001b[38;5;241m.\u001b[39mestimators_\u001b[38;5;241m.\u001b[39mextend(trees)\n",
      "File \u001b[0;32m/opt/anaconda3/envs/datascience/lib/python3.11/site-packages/joblib/parallel.py:1918\u001b[0m, in \u001b[0;36mParallel.__call__\u001b[0;34m(self, iterable)\u001b[0m\n\u001b[1;32m   1916\u001b[0m     output \u001b[38;5;241m=\u001b[39m \u001b[38;5;28mself\u001b[39m\u001b[38;5;241m.\u001b[39m_get_sequential_output(iterable)\n\u001b[1;32m   1917\u001b[0m     \u001b[38;5;28mnext\u001b[39m(output)\n\u001b[0;32m-> 1918\u001b[0m     \u001b[38;5;28;01mreturn\u001b[39;00m output \u001b[38;5;28;01mif\u001b[39;00m \u001b[38;5;28mself\u001b[39m\u001b[38;5;241m.\u001b[39mreturn_generator \u001b[38;5;28;01melse\u001b[39;00m \u001b[38;5;28mlist\u001b[39m(output)\n\u001b[1;32m   1920\u001b[0m \u001b[38;5;66;03m# Let's create an ID that uniquely identifies the current call. If the\u001b[39;00m\n\u001b[1;32m   1921\u001b[0m \u001b[38;5;66;03m# call is interrupted early and that the same instance is immediately\u001b[39;00m\n\u001b[1;32m   1922\u001b[0m \u001b[38;5;66;03m# re-used, this id will be used to prevent workers that were\u001b[39;00m\n\u001b[1;32m   1923\u001b[0m \u001b[38;5;66;03m# concurrently finalizing a task from the previous call to run the\u001b[39;00m\n\u001b[1;32m   1924\u001b[0m \u001b[38;5;66;03m# callback.\u001b[39;00m\n\u001b[1;32m   1925\u001b[0m \u001b[38;5;28;01mwith\u001b[39;00m \u001b[38;5;28mself\u001b[39m\u001b[38;5;241m.\u001b[39m_lock:\n",
      "File \u001b[0;32m/opt/anaconda3/envs/datascience/lib/python3.11/site-packages/joblib/parallel.py:1847\u001b[0m, in \u001b[0;36mParallel._get_sequential_output\u001b[0;34m(self, iterable)\u001b[0m\n\u001b[1;32m   1845\u001b[0m \u001b[38;5;28mself\u001b[39m\u001b[38;5;241m.\u001b[39mn_dispatched_batches \u001b[38;5;241m+\u001b[39m\u001b[38;5;241m=\u001b[39m \u001b[38;5;241m1\u001b[39m\n\u001b[1;32m   1846\u001b[0m \u001b[38;5;28mself\u001b[39m\u001b[38;5;241m.\u001b[39mn_dispatched_tasks \u001b[38;5;241m+\u001b[39m\u001b[38;5;241m=\u001b[39m \u001b[38;5;241m1\u001b[39m\n\u001b[0;32m-> 1847\u001b[0m res \u001b[38;5;241m=\u001b[39m \u001b[43mfunc\u001b[49m\u001b[43m(\u001b[49m\u001b[38;5;241;43m*\u001b[39;49m\u001b[43margs\u001b[49m\u001b[43m,\u001b[49m\u001b[43m \u001b[49m\u001b[38;5;241;43m*\u001b[39;49m\u001b[38;5;241;43m*\u001b[39;49m\u001b[43mkwargs\u001b[49m\u001b[43m)\u001b[49m\n\u001b[1;32m   1848\u001b[0m \u001b[38;5;28mself\u001b[39m\u001b[38;5;241m.\u001b[39mn_completed_tasks \u001b[38;5;241m+\u001b[39m\u001b[38;5;241m=\u001b[39m \u001b[38;5;241m1\u001b[39m\n\u001b[1;32m   1849\u001b[0m \u001b[38;5;28mself\u001b[39m\u001b[38;5;241m.\u001b[39mprint_progress()\n",
      "File \u001b[0;32m/opt/anaconda3/envs/datascience/lib/python3.11/site-packages/sklearn/ensemble/_forest.py:188\u001b[0m, in \u001b[0;36m_parallel_build_trees\u001b[0;34m(tree, bootstrap, X, y, sample_weight, tree_idx, n_trees, verbose, class_weight, n_samples_bootstrap)\u001b[0m\n\u001b[1;32m    185\u001b[0m     \u001b[38;5;28;01melif\u001b[39;00m class_weight \u001b[38;5;241m==\u001b[39m \u001b[38;5;124m\"\u001b[39m\u001b[38;5;124mbalanced_subsample\u001b[39m\u001b[38;5;124m\"\u001b[39m:\n\u001b[1;32m    186\u001b[0m         curr_sample_weight \u001b[38;5;241m*\u001b[39m\u001b[38;5;241m=\u001b[39m compute_sample_weight(\u001b[38;5;124m\"\u001b[39m\u001b[38;5;124mbalanced\u001b[39m\u001b[38;5;124m\"\u001b[39m, y, indices\u001b[38;5;241m=\u001b[39mindices)\n\u001b[0;32m--> 188\u001b[0m     \u001b[43mtree\u001b[49m\u001b[38;5;241;43m.\u001b[39;49m\u001b[43mfit\u001b[49m\u001b[43m(\u001b[49m\u001b[43mX\u001b[49m\u001b[43m,\u001b[49m\u001b[43m \u001b[49m\u001b[43my\u001b[49m\u001b[43m,\u001b[49m\u001b[43m \u001b[49m\u001b[43msample_weight\u001b[49m\u001b[38;5;241;43m=\u001b[39;49m\u001b[43mcurr_sample_weight\u001b[49m\u001b[43m,\u001b[49m\u001b[43m \u001b[49m\u001b[43mcheck_input\u001b[49m\u001b[38;5;241;43m=\u001b[39;49m\u001b[38;5;28;43;01mFalse\u001b[39;49;00m\u001b[43m)\u001b[49m\n\u001b[1;32m    189\u001b[0m \u001b[38;5;28;01melse\u001b[39;00m:\n\u001b[1;32m    190\u001b[0m     tree\u001b[38;5;241m.\u001b[39mfit(X, y, sample_weight\u001b[38;5;241m=\u001b[39msample_weight, check_input\u001b[38;5;241m=\u001b[39m\u001b[38;5;28;01mFalse\u001b[39;00m)\n",
      "File \u001b[0;32m/opt/anaconda3/envs/datascience/lib/python3.11/site-packages/sksurv/tree/tree.py:338\u001b[0m, in \u001b[0;36mSurvivalTree.fit\u001b[0;34m(self, X, y, sample_weight, check_input)\u001b[0m\n\u001b[1;32m    327\u001b[0m \u001b[38;5;28;01melse\u001b[39;00m:\n\u001b[1;32m    328\u001b[0m     builder \u001b[38;5;241m=\u001b[39m BestFirstTreeBuilder(\n\u001b[1;32m    329\u001b[0m         splitter,\n\u001b[1;32m    330\u001b[0m         params[\u001b[38;5;124m\"\u001b[39m\u001b[38;5;124mmin_samples_split\u001b[39m\u001b[38;5;124m\"\u001b[39m],\n\u001b[0;32m   (...)\u001b[0m\n\u001b[1;32m    335\u001b[0m         \u001b[38;5;241m0.0\u001b[39m,  \u001b[38;5;66;03m# min_impurity_decrease\u001b[39;00m\n\u001b[1;32m    336\u001b[0m     )\n\u001b[0;32m--> 338\u001b[0m \u001b[43mbuilder\u001b[49m\u001b[38;5;241;43m.\u001b[39;49m\u001b[43mbuild\u001b[49m\u001b[43m(\u001b[49m\u001b[38;5;28;43mself\u001b[39;49m\u001b[38;5;241;43m.\u001b[39;49m\u001b[43mtree_\u001b[49m\u001b[43m,\u001b[49m\u001b[43m \u001b[49m\u001b[43mX\u001b[49m\u001b[43m,\u001b[49m\u001b[43m \u001b[49m\u001b[43my_numeric\u001b[49m\u001b[43m,\u001b[49m\u001b[43m \u001b[49m\u001b[43msample_weight\u001b[49m\u001b[43m,\u001b[49m\u001b[43m \u001b[49m\u001b[43mmissing_values_in_feature_mask\u001b[49m\u001b[43m)\u001b[49m\n\u001b[1;32m    340\u001b[0m \u001b[38;5;28;01mreturn\u001b[39;00m \u001b[38;5;28mself\u001b[39m\n",
      "File \u001b[0;32msklearn/tree/_tree.pyx:170\u001b[0m, in \u001b[0;36msklearn.tree._tree.DepthFirstTreeBuilder.build\u001b[0;34m()\u001b[0m\n",
      "File \u001b[0;32mstringsource:660\u001b[0m, in \u001b[0;36mView.MemoryView.memoryview_cwrapper\u001b[0;34m()\u001b[0m\n",
      "File \u001b[0;32mstringsource:350\u001b[0m, in \u001b[0;36mView.MemoryView.memoryview.__cinit__\u001b[0;34m()\u001b[0m\n",
      "\u001b[0;31mTypeError\u001b[0m: a bytes-like object is required, not 'Series'"
     ]
    }
   ],
   "source": [
    "result, plot = icpw_model(rsf, X,yt)\n",
    "result\n"
   ]
  }
 ],
 "metadata": {
  "kernelspec": {
   "display_name": "datascience",
   "language": "python",
   "name": "python3"
  },
  "language_info": {
   "codemirror_mode": {
    "name": "ipython",
    "version": 3
   },
   "file_extension": ".py",
   "mimetype": "text/x-python",
   "name": "python",
   "nbconvert_exporter": "python",
   "pygments_lexer": "ipython3",
   "version": "3.11.5"
  }
 },
 "nbformat": 4,
 "nbformat_minor": 2
}
