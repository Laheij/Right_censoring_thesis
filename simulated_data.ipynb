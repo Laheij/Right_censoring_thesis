{
 "cells": [
  {
   "cell_type": "code",
   "execution_count": 1,
   "metadata": {},
   "outputs": [],
   "source": [
    "\n",
    "from sklearn.datasets import make_regression\n",
    "import numpy as np\n",
    "import pandas as pd\n",
    "from scipy.stats import expon\n",
    "import pandas as pd\n",
    "import numpy as np\n",
    "\n",
    "\n",
    "import pandas as pd\n",
    "import matplotlib.pyplot as plt\n",
    "import numpy as np\n",
    "\n",
    "%matplotlib inline\n",
    "\n",
    "from sklearn import set_config\n",
    "from sklearn.model_selection import train_test_split\n",
    "from sklearn.preprocessing import OrdinalEncoder\n",
    "\n",
    "from sksurv.datasets import load_gbsg2\n",
    "from sksurv.preprocessing import OneHotEncoder\n",
    "from sksurv.ensemble import RandomSurvivalForest\n",
    "from sksurv.metrics import brier_score\n",
    "\n",
    "from sksurv.metrics import (\n",
    "    concordance_index_censored,\n",
    "    concordance_index_ipcw,\n",
    "    cumulative_dynamic_auc,\n",
    "    integrated_brier_score,\n",
    ")\n",
    "\n",
    "from sklearn.model_selection import KFold"
   ]
  },
  {
   "cell_type": "code",
   "execution_count": 2,
   "metadata": {},
   "outputs": [],
   "source": [
    "from sklearn.datasets import make_regression\n",
    "\n",
    "import numpy as np\n",
    "n_samples = 1000\n",
    "hazard_ratio = 2.0\n",
    "random_state = 42\n",
    "X, y = make_regression(n_samples=n_samples, n_features=10, noise=1, random_state=n_samples)\n",
    "time_event =  abs(y)\n",
    "event = np.full(n_samples, True)\n",
    "max_time = max(y)\n",
    "from sksurv.util import Surv\n",
    "yt = Surv.from_arrays(event=event, time=time_event)"
   ]
  },
  {
   "cell_type": "code",
   "execution_count": 3,
   "metadata": {},
   "outputs": [],
   "source": [
    "X_train, X_test, y_train, y_test = train_test_split(X, yt, test_size=0.2, random_state=random_state)"
   ]
  },
  {
   "cell_type": "markdown",
   "metadata": {},
   "source": [
    "# Create censored data\n"
   ]
  },
  {
   "cell_type": "code",
   "execution_count": 4,
   "metadata": {},
   "outputs": [],
   "source": [
    "\n",
    "def censor_data(data):\n",
    "# Generate a random censoring amount between 0.1 and 0.3\n",
    "    random_censoring = np.random.uniform(0.1, 0.3)\n",
    "\n",
    "# Determine the number of observations to censor\n",
    "    n_to_censor = int(len(data) * random_censoring)\n",
    "\n",
    "# Ensure we do not exceed the length of the DataFrame\n",
    "    n_to_censor = min(n_to_censor, len(data))\n",
    "\n",
    "# Randomly select indices to censor\n",
    "    counter_list = np.random.choice(len(data), n_to_censor, replace=False)\n",
    "\n",
    "    data_cen = pd.DataFrame(columns=['event','time'])\n",
    "    counter = 0\n",
    "    for event, time in data:\n",
    "    \n",
    "        if counter in counter_list:\n",
    "            event = False\n",
    "            time_cen = np.random.uniform(low=0, high=time, size=1)\n",
    "            time = time_cen\n",
    "       \n",
    "\n",
    "    \n",
    "        \n",
    "        data_cen.loc[counter] =  [event,time]\n",
    "        counter += 1\n",
    "    return data_cen\n"
   ]
  },
  {
   "cell_type": "code",
   "execution_count": 5,
   "metadata": {},
   "outputs": [],
   "source": [
    "y_cen = censor_data(yt)\n",
    "yt_cen = Surv.from_arrays(event=y_cen['event'], time=y_cen['time'])"
   ]
  },
  {
   "cell_type": "markdown",
   "metadata": {},
   "source": [
    "## create dataframe\n",
    "#CCA"
   ]
  },
  {
   "cell_type": "code",
   "execution_count": 6,
   "metadata": {},
   "outputs": [],
   "source": [
    "cca_df= pd.DataFrame(X).join(pd.DataFrame(yt_cen))\n",
    "cca_data = cca_df[cca_df['event']==True]\n",
    "cca_yt = Surv.from_arrays(event=cca_data['event'], time=cca_data['time'])\n",
    "cca_X = cca_data[cca_data.columns[:-2]]"
   ]
  },
  {
   "cell_type": "markdown",
   "metadata": {},
   "source": [
    "## Plot the difference in time of the dataset"
   ]
  },
  {
   "cell_type": "code",
   "execution_count": 7,
   "metadata": {},
   "outputs": [
    {
     "data": {
      "image/png": "[encoded data removed]",
      "text/plain": [
       "<Figure size 640x480 with 1 Axes>"
      ]
     },
     "metadata": {},
     "output_type": "display_data"
    }
   ],
   "source": [
    "plt.hist(yt['time'], bins='auto', label= 'Simulated data')  # arguments are passed to np.histogram\n",
    "plt.hist(yt_cen['time'], bins='auto', label= 'Simulated data censored')  # arguments are passed to np.histogram\n",
    "plt.hist(cca_yt['time'], bins='auto', label= 'Complete case analysis data')  # arguments are passed to np.histogram\n",
    "plt.title(\"Histogram with 'auto' bins\")\n",
    "plt.legend()\n",
    "plt.show()"
   ]
  },
  {
   "cell_type": "markdown",
   "metadata": {},
   "source": [
    "#Complete Case analyses\n",
    "Checking if event equals True, else delete;"
   ]
  },
  {
   "cell_type": "code",
   "execution_count": 8,
   "metadata": {},
   "outputs": [],
   "source": [
    "cca_df= pd.DataFrame(X).join(pd.DataFrame(yt_cen))\n",
    "cca_data = cca_df[cca_df['event']==True]\n",
    "cca_yt = Surv.from_arrays(event=cca_data['event'], time=cca_data['time'])\n",
    "cca_X = cca_data[cca_data.columns[:-2]]"
   ]
  },
  {
   "cell_type": "markdown",
   "metadata": {},
   "source": [
    "# Metric functions"
   ]
  },
  {
   "cell_type": "code",
   "execution_count": 9,
   "metadata": {},
   "outputs": [],
   "source": [
    "## Create function to test all metrics in one swoop\n",
    "\n",
    "def test_metrics(models, X_train = X_train, y_train = y_train, X_test = X_test, y_test=y_test, df= cca_df):\n",
    "    from sksurv.metrics import (\n",
    "    concordance_index_censored,\n",
    "    concordance_index_ipcw,\n",
    "    cumulative_dynamic_auc,\n",
    "    integrated_brier_score, brier_score\n",
    ")\n",
    "    #print(len(models))\n",
    "\n",
    "    metrics_dic = {}\n",
    "    # Max time calculation for evaluation\n",
    "     # Get the range of observed times in y_test\n",
    "    min_time = y_test['time'].min()+ 1\n",
    "    max_time = y_test['time'].max() -1\n",
    "    #print(\"Min time:\", y_test['time'].min())\n",
    "    #print(\"Max time:\", y_test['time'].max())\n",
    "\n",
    "    # Generate the time points for AUC computation, constrained to the range of y_test['time']\n",
    "    times = np.linspace(min_time, max_time, num=20)\n",
    "    \n",
    "    # Clip times to ensure they are within the range of observed times in y_test\n",
    "    times = np.clip(times, min_time, max_time)\n",
    "    for model in models:\n",
    "        scores = {}\n",
    "    #c-index\n",
    "        c_index = model.score(X_test, y_test)\n",
    "        scores['C-index'] = round(c_index,3)\n",
    "\n",
    "\n",
    "   \n",
    "    # Brier score\n",
    "        survs = model.predict_survival_function(X_test)\n",
    "\n",
    "    \n",
    "        preds = [fn(max_time) for fn in survs]\n",
    "        score_brier = brier_score(y_train, y_test, preds, max_time)\n",
    "        scores['Brier score'] = round(float(score_brier[1]),4)\n",
    "\n",
    "\n",
    "        metrics_dic[f'{str(model)}'] = scores\n",
    "\n",
    "\n",
    "    return metrics_dic\n",
    "\n",
    "def time_dependent_roc(models, model_name, X_train, y_train, X_test, y_test, df):\n",
    "    # Get the range of observed times in y_test\n",
    "    min_time = y_test['time'].min()+ 1\n",
    "    max_time = y_test['time'].max() -1\n",
    "    #print(\"Min time:\", y_test['time'].min())\n",
    "    #print(\"Max time:\", y_test['time'].max())\n",
    "\n",
    "    # Generate the time points for AUC computation, constrained to the range of y_test['time']\n",
    "    times = np.linspace(min_time, max_time, num=20)\n",
    "    \n",
    "    # Clip times to ensure they are within the range of observed times in y_test\n",
    "    times = np.clip(times, min_time, max_time)\n",
    "    \n",
    "    model_auc_dic = {}\n",
    "    \n",
    "    for model in models:\n",
    "        temp_dic = {}\n",
    "        \n",
    "        # Ensure the model has a cumulative hazard function\n",
    "        temp_dic[f'{model_name}_funcs'] = model.predict_cumulative_hazard_function(X_test, return_array=False)\n",
    "        \n",
    "        # Compute scores based on the cumulative hazard function at each time point\n",
    "        temp_dic[f'{model_name}_scores'] = np.vstack([chf(times) for chf in temp_dic[f'{model_name}_funcs']])\n",
    "        \n",
    "        # Compute time-dependent AUC (assuming 'cumulative_dynamic_auc' is defined elsewhere)\n",
    "        temp_dic[f'{model_name}_auc'], temp_dic[f'{model_name}_mean_auc'] = cumulative_dynamic_auc(y_train, y_test, temp_dic[f'{model_name}_scores'], times)\n",
    "        \n",
    "        # Store model AUC values\n",
    "        model_auc_dic[model_name] = temp_dic\n",
    "        \n",
    "        # Plot AUC curve for the current model\n",
    "        plt.plot(times, temp_dic[f'{model_name}_auc'], \"o-\", label=f\"{model_name} (mean AUC = {temp_dic[f'{model_name}_mean_auc']:.2f})\")\n",
    "    \n",
    "    plt.xlabel(\"Days after Enrollment\")\n",
    "    plt.ylabel(\"Time-dependent AUC\")\n",
    "    plt.legend(loc=\"lower center\")\n",
    "    plt.grid(True)\n",
    "    plt.show()"
   ]
  },
  {
   "cell_type": "code",
   "execution_count": 10,
   "metadata": {},
   "outputs": [],
   "source": [
    "import numpy as np\n",
    "import matplotlib.pyplot as plt\n",
    "\n",
    "\n"
   ]
  },
  {
   "cell_type": "markdown",
   "metadata": {},
   "source": [
    "# Basline model"
   ]
  },
  {
   "cell_type": "code",
   "execution_count": 11,
   "metadata": {},
   "outputs": [],
   "source": [
    "# basic RSF model\n",
    "def basic_rsf(df):\n",
    "    rsf = RandomSurvivalForest(random_state = random_state)\n",
    "\n",
    "    yt = Surv.from_arrays(event=df['event'], time=df['time'])\n",
    "    X = df.drop(columns=['event', 'time'])\n",
    "\n",
    "    X_train, X_test, y_train, y_test = train_test_split(X, yt, test_size=0.2, random_state=random_state)\n",
    "    rsf_basic = rsf.fit(X_train,y_train)\n",
    "\n",
    "\n",
    "    results = test_metrics([rsf_basic], X_train,  y_train, X_test, y_test)\n",
    "    plot = time_dependent_roc([rsf_basic],'base RSF', X_train,  y_train, X_test, y_test, df)\n",
    "    return results, plot\n",
    "\n"
   ]
  },
  {
   "cell_type": "code",
   "execution_count": 12,
   "metadata": {},
   "outputs": [
    {
     "data": {
      "image/png": "[encoded data removed]",
      "text/plain": [
       "<Figure size 640x480 with 1 Axes>"
      ]
     },
     "metadata": {},
     "output_type": "display_data"
    },
    {
     "data": {
      "text/plain": [
       "({'RandomSurvivalForest(random_state=42)': {'C-index': 0.692,\n",
       "   'Brier score': 0.0085}},\n",
       " None)"
      ]
     },
     "execution_count": 12,
     "metadata": {},
     "output_type": "execute_result"
    }
   ],
   "source": [
    "basic_rsf(cca_df)"
   ]
  },
  {
   "cell_type": "markdown",
   "metadata": {},
   "source": [
    "## Creating models using the different methods"
   ]
  },
  {
   "cell_type": "code",
   "execution_count": 13,
   "metadata": {},
   "outputs": [],
   "source": [
    "## Censored model\n",
    "\n",
    "X_train_cen, X_tes_cen, y_train_cen, y_test_cen = train_test_split(X, yt_cen, test_size=0.2, random_state=random_state)"
   ]
  },
  {
   "cell_type": "code",
   "execution_count": 14,
   "metadata": {},
   "outputs": [
    {
     "data": {
      "text/plain": [
       "0.6921159461576811"
      ]
     },
     "execution_count": 14,
     "metadata": {},
     "output_type": "execute_result"
    }
   ],
   "source": [
    "# basic RSF model\n",
    "rsf = RandomSurvivalForest(random_state = random_state)\n",
    "rsf_cen = rsf.fit(X_train_cen, y_train_cen)\n",
    "rsf_cen.score(X_tes_cen, y_test_cen)\n"
   ]
  },
  {
   "cell_type": "code",
   "execution_count": null,
   "metadata": {},
   "outputs": [],
   "source": []
  },
  {
   "cell_type": "code",
   "execution_count": 15,
   "metadata": {},
   "outputs": [],
   "source": [
    "## CCA\n",
    "def complete_case_analysis(df):\n",
    "    rsf = RandomSurvivalForest(random_state = random_state)\n",
    "    \n",
    "    cca_df= pd.DataFrame(X).join(pd.DataFrame(yt_cen))\n",
    "    cca_data = cca_df[cca_df['event']==True]\n",
    "    cca_yt = Surv.from_arrays(event=cca_data['event'], time=cca_data['time'])\n",
    "    cca_X = cca_data.drop(columns=['event', 'time'])\n",
    "\n",
    "    X_train, X_test, y_train, y_test = train_test_split(cca_X, cca_yt, test_size=0.2, random_state=random_state)\n",
    "\n",
    "    rsf_cca = rsf.fit(X_train, y_train)\n",
    "    \n",
    "\n",
    "    results = test_metrics([rsf_cca], X_train,  y_train, X_test, y_test)\n",
    "    plot = time_dependent_roc([rsf_cca],'CCA', X_train,  y_train, X_test, y_test, cca_df)\n",
    "    return results, plot"
   ]
  },
  {
   "cell_type": "code",
   "execution_count": 16,
   "metadata": {},
   "outputs": [
    {
     "ename": "ValueError",
     "evalue": "x must be within [0.000000; 715.098690]",
     "output_type": "error",
     "traceback": [
      "\u001b[0;31m---------------------------------------------------------------------------\u001b[0m",
      "\u001b[0;31mValueError\u001b[0m                                Traceback (most recent call last)",
      "Cell \u001b[0;32mIn[16], line 1\u001b[0m\n\u001b[0;32m----> 1\u001b[0m \u001b[43mcomplete_case_analysis\u001b[49m\u001b[43m(\u001b[49m\u001b[43mcca_df\u001b[49m\u001b[43m)\u001b[49m\n",
      "Cell \u001b[0;32mIn[15], line 15\u001b[0m, in \u001b[0;36mcomplete_case_analysis\u001b[0;34m(df)\u001b[0m\n\u001b[1;32m     10\u001b[0m X_train, X_test, y_train, y_test \u001b[38;5;241m=\u001b[39m train_test_split(cca_X, cca_yt, test_size\u001b[38;5;241m=\u001b[39m\u001b[38;5;241m0.2\u001b[39m, random_state\u001b[38;5;241m=\u001b[39mrandom_state)\n\u001b[1;32m     12\u001b[0m rsf_cca \u001b[38;5;241m=\u001b[39m rsf\u001b[38;5;241m.\u001b[39mfit(X_train, y_train)\n\u001b[0;32m---> 15\u001b[0m results \u001b[38;5;241m=\u001b[39m \u001b[43mtest_metrics\u001b[49m\u001b[43m(\u001b[49m\u001b[43m[\u001b[49m\u001b[43mrsf_cca\u001b[49m\u001b[43m]\u001b[49m\u001b[43m,\u001b[49m\u001b[43m \u001b[49m\u001b[43mX_train\u001b[49m\u001b[43m,\u001b[49m\u001b[43m  \u001b[49m\u001b[43my_train\u001b[49m\u001b[43m,\u001b[49m\u001b[43m \u001b[49m\u001b[43mX_test\u001b[49m\u001b[43m,\u001b[49m\u001b[43m \u001b[49m\u001b[43my_test\u001b[49m\u001b[43m)\u001b[49m\n\u001b[1;32m     16\u001b[0m plot \u001b[38;5;241m=\u001b[39m time_dependent_roc([rsf_cca],\u001b[38;5;124m'\u001b[39m\u001b[38;5;124mCCA\u001b[39m\u001b[38;5;124m'\u001b[39m, X_train,  y_train, X_test, y_test, cca_df)\n\u001b[1;32m     17\u001b[0m \u001b[38;5;28;01mreturn\u001b[39;00m results, plot\n",
      "Cell \u001b[0;32mIn[9], line 37\u001b[0m, in \u001b[0;36mtest_metrics\u001b[0;34m(models, X_train, y_train, X_test, y_test, df)\u001b[0m\n\u001b[1;32m     33\u001b[0m \u001b[38;5;66;03m# Brier score\u001b[39;00m\n\u001b[1;32m     34\u001b[0m     survs \u001b[38;5;241m=\u001b[39m model\u001b[38;5;241m.\u001b[39mpredict_survival_function(X_test)\n\u001b[0;32m---> 37\u001b[0m     preds \u001b[38;5;241m=\u001b[39m \u001b[43m[\u001b[49m\u001b[43mfn\u001b[49m\u001b[43m(\u001b[49m\u001b[43mmax_time\u001b[49m\u001b[43m)\u001b[49m\u001b[43m \u001b[49m\u001b[38;5;28;43;01mfor\u001b[39;49;00m\u001b[43m \u001b[49m\u001b[43mfn\u001b[49m\u001b[43m \u001b[49m\u001b[38;5;129;43;01min\u001b[39;49;00m\u001b[43m \u001b[49m\u001b[43msurvs\u001b[49m\u001b[43m]\u001b[49m\n\u001b[1;32m     38\u001b[0m     score_brier \u001b[38;5;241m=\u001b[39m brier_score(y_train, y_test, preds, max_time)\n\u001b[1;32m     39\u001b[0m     scores[\u001b[38;5;124m'\u001b[39m\u001b[38;5;124mBrier score\u001b[39m\u001b[38;5;124m'\u001b[39m] \u001b[38;5;241m=\u001b[39m \u001b[38;5;28mround\u001b[39m(\u001b[38;5;28mfloat\u001b[39m(score_brier[\u001b[38;5;241m1\u001b[39m]),\u001b[38;5;241m4\u001b[39m)\n",
      "Cell \u001b[0;32mIn[9], line 37\u001b[0m, in \u001b[0;36m<listcomp>\u001b[0;34m(.0)\u001b[0m\n\u001b[1;32m     33\u001b[0m \u001b[38;5;66;03m# Brier score\u001b[39;00m\n\u001b[1;32m     34\u001b[0m     survs \u001b[38;5;241m=\u001b[39m model\u001b[38;5;241m.\u001b[39mpredict_survival_function(X_test)\n\u001b[0;32m---> 37\u001b[0m     preds \u001b[38;5;241m=\u001b[39m [\u001b[43mfn\u001b[49m\u001b[43m(\u001b[49m\u001b[43mmax_time\u001b[49m\u001b[43m)\u001b[49m \u001b[38;5;28;01mfor\u001b[39;00m fn \u001b[38;5;129;01min\u001b[39;00m survs]\n\u001b[1;32m     38\u001b[0m     score_brier \u001b[38;5;241m=\u001b[39m brier_score(y_train, y_test, preds, max_time)\n\u001b[1;32m     39\u001b[0m     scores[\u001b[38;5;124m'\u001b[39m\u001b[38;5;124mBrier score\u001b[39m\u001b[38;5;124m'\u001b[39m] \u001b[38;5;241m=\u001b[39m \u001b[38;5;28mround\u001b[39m(\u001b[38;5;28mfloat\u001b[39m(score_brier[\u001b[38;5;241m1\u001b[39m]),\u001b[38;5;241m4\u001b[39m)\n",
      "File \u001b[0;32m/opt/anaconda3/envs/datascience/lib/python3.11/site-packages/sksurv/functions.py:95\u001b[0m, in \u001b[0;36mStepFunction.__call__\u001b[0;34m(self, x)\u001b[0m\n\u001b[1;32m     93\u001b[0m     \u001b[38;5;28;01mraise\u001b[39;00m \u001b[38;5;167;01mValueError\u001b[39;00m(\u001b[38;5;124m\"\u001b[39m\u001b[38;5;124mx must be finite\u001b[39m\u001b[38;5;124m\"\u001b[39m)\n\u001b[1;32m     94\u001b[0m \u001b[38;5;28;01mif\u001b[39;00m np\u001b[38;5;241m.\u001b[39mmin(x) \u001b[38;5;241m<\u001b[39m \u001b[38;5;28mself\u001b[39m\u001b[38;5;241m.\u001b[39m_domain[\u001b[38;5;241m0\u001b[39m] \u001b[38;5;129;01mor\u001b[39;00m np\u001b[38;5;241m.\u001b[39mmax(x) \u001b[38;5;241m>\u001b[39m \u001b[38;5;28mself\u001b[39m\u001b[38;5;241m.\u001b[39mdomain[\u001b[38;5;241m1\u001b[39m]:\n\u001b[0;32m---> 95\u001b[0m     \u001b[38;5;28;01mraise\u001b[39;00m \u001b[38;5;167;01mValueError\u001b[39;00m(\u001b[38;5;124mf\u001b[39m\u001b[38;5;124m\"\u001b[39m\u001b[38;5;124mx must be within [\u001b[39m\u001b[38;5;132;01m{\u001b[39;00m\u001b[38;5;28mself\u001b[39m\u001b[38;5;241m.\u001b[39mdomain[\u001b[38;5;241m0\u001b[39m]\u001b[38;5;132;01m:\u001b[39;00m\u001b[38;5;124mf\u001b[39m\u001b[38;5;132;01m}\u001b[39;00m\u001b[38;5;124m; \u001b[39m\u001b[38;5;132;01m{\u001b[39;00m\u001b[38;5;28mself\u001b[39m\u001b[38;5;241m.\u001b[39mdomain[\u001b[38;5;241m1\u001b[39m]\u001b[38;5;132;01m:\u001b[39;00m\u001b[38;5;124mf\u001b[39m\u001b[38;5;132;01m}\u001b[39;00m\u001b[38;5;124m]\u001b[39m\u001b[38;5;124m\"\u001b[39m)\n\u001b[1;32m     97\u001b[0m \u001b[38;5;66;03m# x is within the domain, but we need to account for self.domain[0] <= x < self.x[0]\u001b[39;00m\n\u001b[1;32m     98\u001b[0m x \u001b[38;5;241m=\u001b[39m np\u001b[38;5;241m.\u001b[39mclip(x, a_min\u001b[38;5;241m=\u001b[39m\u001b[38;5;28mself\u001b[39m\u001b[38;5;241m.\u001b[39mx[\u001b[38;5;241m0\u001b[39m], a_max\u001b[38;5;241m=\u001b[39m\u001b[38;5;28;01mNone\u001b[39;00m)\n",
      "\u001b[0;31mValueError\u001b[0m: x must be within [0.000000; 715.098690]"
     ]
    }
   ],
   "source": [
    "complete_case_analysis(cca_df)"
   ]
  },
  {
   "cell_type": "markdown",
   "metadata": {},
   "source": [
    "## Imputation"
   ]
  },
  {
   "cell_type": "code",
   "execution_count": null,
   "metadata": {},
   "outputs": [],
   "source": [
    "import numpy as np\n",
    "import pandas as pd\n",
    "from lifelines import WeibullFitter\n",
    "from scipy.stats import weibull_min\n",
    "\n",
    "def imputation_model(df):\n",
    "\n",
    "    def impute_surv_data(df):\n",
    "        rsf = RandomSurvivalForest(random_state = random_state)\n",
    "        censored_data = df[df['event'] == 0].copy()\n",
    "        uncensored_data = df[df['event'] == 1].copy()\n",
    "\n",
    "    # 1. Fit a Weibull model to uncensored data\n",
    "        weibull_fitter = WeibullFitter()\n",
    "        weibull_fitter.fit(uncensored_data['time'], event_observed=uncensored_data['event'])\n",
    "\n",
    "    # Get Weibull parameters for sampling\n",
    "        weibull_shape = weibull_fitter.rho_\n",
    "        weibull_scale = weibull_fitter.lambda_\n",
    "\n",
    "    # 2. Impute times for censored data using the Weibull distribution\n",
    "        imputed_times = []\n",
    "        for index, row in censored_data.iterrows():\n",
    "            observed_time = row['time']\n",
    "            \n",
    "            # Generate a potential event time from the Weibull distribution\n",
    "            potential_event_time = weibull_min.rvs(c=weibull_shape, scale=weibull_scale)\n",
    "            \n",
    "            # Ensure the imputed event time is after the observed (censored) time\n",
    "            if potential_event_time > observed_time:\n",
    "                imputed_times.append(potential_event_time)\n",
    "            else:\n",
    "                imputed_times.append(observed_time + weibull_min.rvs(c=weibull_shape, scale=weibull_scale))  # Add additional time if needed\n",
    "\n",
    "        # Add imputed times to the censored data\n",
    "        censored_data['imputed_time'] = imputed_times\n",
    "\n",
    "        # For uncensored data, the imputed time is the observed time\n",
    "        uncensored_data['imputed_time'] = uncensored_data['time']\n",
    "\n",
    "        # Combine censored and uncensored data back together and set all events to 1\n",
    "        df_imputed = pd.concat([uncensored_data, censored_data], axis=0).sort_index()\n",
    "        df_imputed['event'] = 1  # Set all events to 1\n",
    "\n",
    "        return df_imputed[df_imputed.columns[:-3]], df_imputed[['event','imputed_time']]\n",
    "    rsf = RandomSurvivalForest(random_state = random_state)\n",
    "    X, y = impute_surv_data(df)\n",
    "    yt = Surv.from_arrays(event=y['event'].astype('bool'), time=y['imputed_time'])\n",
    "    X_train, X_test, y_train, y_test = train_test_split(X, yt, test_size=0.2, random_state=random_state)\n",
    "    rsf_imp = rsf.fit(X_train, y_train)\n",
    "    \n",
    "\n",
    "    results = test_metrics([rsf_imp], X_train,  y_train, X_test, y_test)\n",
    "    plot = time_dependent_roc([rsf_imp],'Imputation', X_train,  y_train, X_test, y_test, cca_df)\n",
    "\n",
    "    return results, plot\n"
   ]
  },
  {
   "cell_type": "code",
   "execution_count": null,
   "metadata": {},
   "outputs": [],
   "source": [
    "imputation_model(cca_df)"
   ]
  },
  {
   "cell_type": "markdown",
   "metadata": {},
   "source": [
    "# STUART"
   ]
  },
  {
   "cell_type": "code",
   "execution_count": null,
   "metadata": {},
   "outputs": [],
   "source": [
    "import numpy as np\n",
    "import pandas as pd\n",
    "from sksurv.ensemble import RandomSurvivalForest\n",
    "from scipy.stats import norm\n",
    "\n",
    "def stuart(df):\n",
    "    #STUART method\n",
    "\n",
    "    # Function to train a base model\n",
    "    def train_base_model(observed):\n",
    "        # Prepare features (X) and survival data (y) for Random Survival Forest\n",
    "        X_train = observed.drop(columns=['time', 'event'])\n",
    "        y_train = observed[['event', 'time']].to_records(index=False)\n",
    "        \n",
    "        # Initialize and train the Random Survival Forest\n",
    "        model = RandomSurvivalForest(n_estimators=100, min_samples_split=10, min_samples_leaf=3, random_state=0)\n",
    "        model.fit(X_train, y_train)\n",
    "        \n",
    "        return model\n",
    "\n",
    "\n",
    "    def predict_survival_time(model, censored):\n",
    "        X_censored = censored.drop(columns=['time', 'event'])\n",
    "        \n",
    "        # Predict survival functions for each instance\n",
    "        survival_functions = model.predict_survival_function(X_censored)\n",
    "        \n",
    "        predictions = []\n",
    "        variances = []\n",
    "        \n",
    "        # Iterate over survival functions and compute the median survival time (Tp)\n",
    "        for surv_func in survival_functions:\n",
    "            # surv_func is a StepFunction object\n",
    "            # surv_func.x contains the time points and surv_func.y contains the survival probabilities\n",
    "            \n",
    "            # Find the time point where survival probability is closest to 50%\n",
    "            median_time = surv_func.x[np.argmin(np.abs(surv_func.y - 0.5))]  # Median survival time\n",
    "            \n",
    "            predictions.append(median_time)\n",
    "            \n",
    "            # Variance estimation (currently a placeholder, can be refined)\n",
    "            variances.append(2.0)  # Placeholder variance for simplicity\n",
    "        \n",
    "        return np.array(predictions), np.array(variances)\n",
    "\n",
    "\n",
    "    # Function to calculate tolerance interval\n",
    "    def calculate_tolerance_interval(predictions, variances, confidence_level=0.95):\n",
    "        # Calculate 95% tolerance interval using normal distribution\n",
    "        z_score = norm.ppf(1 - (1 - confidence_level) / 2)\n",
    "        lower_bound = predictions - z_score * np.sqrt(variances)\n",
    "        upper_bound = predictions + z_score * np.sqrt(variances)\n",
    "        return lower_bound, upper_bound\n",
    "\n",
    "    # Function to update the training set with confident predictions\n",
    "    def update_training_set(censored, observed, predictions, variances, lower_bound, upper_bound):\n",
    "        confident_predictions = []\n",
    "        new_observed = observed.copy()\n",
    "\n",
    "        for idx, (prediction, variance, lb, ub) in enumerate(zip(predictions, variances, lower_bound, upper_bound)):\n",
    "            Tc = censored.iloc[idx]['time']  # Censoring time of the instance\n",
    "            \n",
    "            # Check if Tc > Tp + 2σ to consider it confident\n",
    "            if Tc > prediction + 2 * np.sqrt(variance):\n",
    "                # Add confident prediction to training data (observed) and remove from censored\n",
    "                new_observed = pd.concat([new_observed, censored.iloc[[idx]]], ignore_index=True)\n",
    "                confident_predictions.append(True)\n",
    "            else:\n",
    "                confident_predictions.append(False)\n",
    "        \n",
    "        # Update censored to remove confident predictions\n",
    "        new_censored = censored[~np.array(confident_predictions)]\n",
    "        \n",
    "        return new_observed, new_censored\n",
    "\n",
    "    # Main function to run the iterative process with Random Survival Forest\n",
    "    def survival_prediction_model(observed, censored, max_iterations=50):\n",
    "        iteration = 0\n",
    "        while iteration < max_iterations:\n",
    "            iteration += 1\n",
    "            \n",
    "            # Train the base Random Survival Forest model on observed data\n",
    "            model = train_base_model(observed)\n",
    "            \n",
    "            # Make predictions for censored instances\n",
    "            predictions, variances = predict_survival_time(model, censored)\n",
    "            \n",
    "            # Sort predictions based on minimum variance (if required)\n",
    "            sorted_indices = np.argsort(variances)\n",
    "            predictions = predictions[sorted_indices]\n",
    "            variances = variances[sorted_indices]\n",
    "            censored_sorted = censored.iloc[sorted_indices]\n",
    "            \n",
    "            # Calculate the tolerance interval for predictions\n",
    "            lower_bound, upper_bound = calculate_tolerance_interval(predictions, variances)\n",
    "            \n",
    "            # Identify confident predictions to add to the training set\n",
    "            observed, censored = update_training_set(censored_sorted, observed, predictions, variances, lower_bound, upper_bound)\n",
    "            \n",
    "            # Stop if no new confident predictions are added\n",
    "            if observed.shape[0] == len(observed):  # Check if training set size increased\n",
    "                print(f\"Iteration {iteration}: No confident predictions added.\")\n",
    "                break\n",
    "\n",
    "        return model, observed\n",
    "    observed  = df[df['event']==True]\n",
    "    censored = df[df['event']==False]\n",
    "    observed['event'] = observed['event'].astype(bool)\n",
    "    censored['event'] = censored['event'].astype(bool)\n",
    "    final_model, final_observed = survival_prediction_model(observed, censored)\n",
    "\n",
    "    def prepare_data(data):\n",
    "        event_time = Surv.from_arrays(event=data['event'], time=data['time'])\n",
    "        features = data[data.columns[:-2]]\n",
    "\n",
    "        return  features, event_time\n",
    "    stuart_X , stuart_y = prepare_data(final_observed)\n",
    "\n",
    "    X_train, X_test, y_train, y_test = train_test_split(stuart_X, stuart_y, test_size=0.2, random_state=random_state)\n",
    "    rsf = RandomSurvivalForest(random_state = random_state)\n",
    "    rsf_stuart = rsf.fit(X_train, y_train)\n",
    "        \n",
    "\n",
    "    results = test_metrics([rsf_stuart], X_train,  y_train, X_test, y_test, cca_df)\n",
    "    plot = time_dependent_roc([rsf_stuart],  'STUART', X_train,  y_train, X_test, y_test, cca_df)\n",
    "    return results, plot"
   ]
  },
  {
   "cell_type": "code",
   "execution_count": null,
   "metadata": {},
   "outputs": [],
   "source": [
    "stuart(cca_df)\n",
    "    \n"
   ]
  },
  {
   "cell_type": "code",
   "execution_count": null,
   "metadata": {},
   "outputs": [],
   "source": [
    "## ICPW\n",
    "\n",
    "def icpw_model(df):\n",
    "\n",
    "    rsf = RandomSurvivalForest(random_state = random_state)\n",
    "    from sklearn.linear_model import LogisticRegression\n",
    "\n",
    "\n",
    "    def prepare_data(data):\n",
    "            event_time = Surv.from_arrays(event=data['event'], time=data['time'])\n",
    "            features = data[data.columns[:-2]]\n",
    "\n",
    "            return  features, event_time\n",
    "    \n",
    "    X , yt = prepare_data(df)\n",
    "# Fit a logistic regression model to predict censoring\n",
    "    X_censor =  X\n",
    "\n",
    "    y_censor = 1  - yt_cen['event'].astype('int')  # 1 for censored, 0 for event\n",
    "\n",
    "#cca_yt = Surv.from_arrays(event=cca_data['event'], time=cca_data['time'])\n",
    "    model = LogisticRegression()\n",
    "    model.fit(X_censor, y_censor)\n",
    "\n",
    "    yt = pd.DataFrame(columns=['event', 'time'], data= yt)\n",
    "# Predict the probability of being censored\n",
    "    censor_prob = model.predict_proba(X_censor)[:, 1]\n",
    "    yt['weights'] = 1 / censor_prob\n",
    "    X_train, X_test, y_train, y_test = train_test_split(X_censor, yt, test_size=0.2, random_state=random_state)\n",
    "    yt_temp_train = Surv.from_arrays(event=y_train['event'], time=y_train['time'])\n",
    "    yt_temp_test = Surv.from_arrays(event=y_test['event'], time=y_test['time'])\n",
    "    rsf_ICPW = rsf.fit(X_train,yt_temp_train , np.asanyarray(y_train['weights'].values))\n",
    "\n",
    "    results = test_metrics([rsf_ICPW], X_train,  yt_temp_train, X_test, yt_temp_test)\n",
    "    plot = time_dependent_roc(rsf_ICPW,'ICPW', X_train,  yt_temp_train, X_test, yt_temp_test, cca_df)\n",
    "\n",
    "    return results, plot\n"
   ]
  },
  {
   "cell_type": "code",
   "execution_count": null,
   "metadata": {},
   "outputs": [],
   "source": [
    "result, plot = icpw_model(cca_df)\n",
    "result\n"
   ]
  },
  {
   "cell_type": "markdown",
   "metadata": {},
   "source": [
    "# Plot all roc in one plot"
   ]
  },
  {
   "cell_type": "code",
   "execution_count": null,
   "metadata": {},
   "outputs": [],
   "source": [
    "models = [basic_rsf, complete_case_analysis, icpw_model, imputation_model, stuart ]"
   ]
  },
  {
   "cell_type": "code",
   "execution_count": null,
   "metadata": {},
   "outputs": [],
   "source": [
    "\n",
    "for model in models:\n",
    "    print(model(cca_df))"
   ]
  },
  {
   "cell_type": "markdown",
   "metadata": {},
   "source": [
    "# table with all metrics "
   ]
  }
 ],
 "metadata": {
  "kernelspec": {
   "display_name": "datascience",
   "language": "python",
   "name": "python3"
  },
  "language_info": {
   "codemirror_mode": {
    "name": "ipython",
    "version": 3
   },
   "file_extension": ".py",
   "mimetype": "text/x-python",
   "name": "python",
   "nbconvert_exporter": "python",
   "pygments_lexer": "ipython3",
   "version": "3.11.5"
  }
 },
 "nbformat": 4,
 "nbformat_minor": 2
}
