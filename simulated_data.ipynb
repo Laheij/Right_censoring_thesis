{
 "cells": [
  {
   "cell_type": "code",
   "execution_count": 1,
   "metadata": {},
   "outputs": [],
   "source": [
    "\n",
    "from sklearn.datasets import make_regression\n",
    "import numpy as np\n",
    "import pandas as pd\n",
    "from scipy.stats import expon\n",
    "import pandas as pd\n",
    "import numpy as np\n",
    "\n",
    "\n",
    "import pandas as pd\n",
    "import matplotlib.pyplot as plt\n",
    "import numpy as np\n",
    "\n",
    "%matplotlib inline\n",
    "\n",
    "from sklearn import set_config\n",
    "from sklearn.model_selection import train_test_split\n",
    "from sklearn.preprocessing import OrdinalEncoder\n",
    "\n",
    "from sksurv.datasets import load_gbsg2\n",
    "from sksurv.preprocessing import OneHotEncoder\n",
    "from sksurv.ensemble import RandomSurvivalForest\n",
    "from sksurv.metrics import brier_score\n",
    "\n",
    "from sksurv.metrics import (\n",
    "    concordance_index_censored,\n",
    "    concordance_index_ipcw,\n",
    "    cumulative_dynamic_auc,\n",
    "    integrated_brier_score,\n",
    ")"
   ]
  },
  {
   "cell_type": "code",
   "execution_count": 2,
   "metadata": {},
   "outputs": [],
   "source": [
    "from sklearn.datasets import make_regression\n",
    "\n",
    "import numpy as np\n",
    "n_samples = 1000\n",
    "hazard_ratio = 2.0\n",
    "random_state = 42\n",
    "X, y = make_regression(n_samples=n_samples, n_features=10, noise=1, random_state=n_samples)\n",
    "time_event =  abs(y)\n",
    "event = np.full(n_samples, True)\n",
    "max_time = max(y)\n",
    "from sksurv.util import Surv\n",
    "yt = Surv.from_arrays(event=event, time=time_event)"
   ]
  },
  {
   "cell_type": "code",
   "execution_count": 40,
   "metadata": {},
   "outputs": [],
   "source": [
    "X_train, X_test, y_train, y_test = train_test_split(X, yt, test_size=0.2, random_state=random_state)"
   ]
  },
  {
   "cell_type": "markdown",
   "metadata": {},
   "source": [
    "# Create censored data\n"
   ]
  },
  {
   "cell_type": "code",
   "execution_count": 21,
   "metadata": {},
   "outputs": [],
   "source": [
    "\n",
    "def censor_data(data):\n",
    "# Generate a random censoring amount between 0.1 and 0.3\n",
    "    random_censoring = np.random.uniform(0.1, 0.3)\n",
    "\n",
    "# Determine the number of observations to censor\n",
    "    n_to_censor = int(len(data) * random_censoring)\n",
    "\n",
    "# Ensure we do not exceed the length of the DataFrame\n",
    "    n_to_censor = min(n_to_censor, len(data))\n",
    "\n",
    "# Randomly select indices to censor\n",
    "    counter_list = np.random.choice(len(data), n_to_censor, replace=False)\n",
    "\n",
    "    data_cen = pd.DataFrame(columns=['event','time'])\n",
    "    counter = 0\n",
    "    for event, time in data:\n",
    "    \n",
    "        if counter in counter_list:\n",
    "            event = False\n",
    "            time_cen = np.random.uniform(low=0, high=time, size=1)\n",
    "            time = time_cen\n",
    "       \n",
    "\n",
    "    \n",
    "        \n",
    "        data_cen.loc[counter] =  [event,time]\n",
    "        counter += 1\n",
    "    return data_cen\n"
   ]
  },
  {
   "cell_type": "code",
   "execution_count": 28,
   "metadata": {},
   "outputs": [],
   "source": [
    "y_cen = censor_data(yt)\n",
    "yt_cen = Surv.from_arrays(event=y_cen['event'], time=y_cen['time'])"
   ]
  },
  {
   "cell_type": "code",
   "execution_count": 29,
   "metadata": {},
   "outputs": [],
   "source": [
    "X_train_cen, X_tes_cen, y_train_cen, y_test_cen = train_test_split(X, yt_cen, test_size=0.2, random_state=random_state)\n"
   ]
  },
  {
   "cell_type": "code",
   "execution_count": null,
   "metadata": {},
   "outputs": [],
   "source": []
  },
  {
   "cell_type": "markdown",
   "metadata": {},
   "source": [
    "# create models"
   ]
  },
  {
   "cell_type": "code",
   "execution_count": null,
   "metadata": {},
   "outputs": [],
   "source": [
    "# basic RSF model\n",
    "rsf = RandomSurvivalForest(random_state = random_state)\n",
    "rsf.fit(X_train, y_train)\n",
    "rsf.score(X_test, y_test)\n",
    "\n"
   ]
  },
  {
   "cell_type": "code",
   "execution_count": 30,
   "metadata": {},
   "outputs": [
    {
     "data": {
      "text/plain": [
       "0.6633602929955745"
      ]
     },
     "execution_count": 30,
     "metadata": {},
     "output_type": "execute_result"
    }
   ],
   "source": [
    "# basic RSF model\n",
    "rsf = RandomSurvivalForest(random_state = random_state)\n",
    "rsf_cen = rsf.fit(X_train_cen, y_train_cen)\n",
    "rsf_cen.score(X_tes_cen, y_test_cen)\n"
   ]
  },
  {
   "cell_type": "markdown",
   "metadata": {},
   "source": [
    "#Complete Case analyses\n",
    "Checking if event equals True, else delete;"
   ]
  },
  {
   "cell_type": "code",
   "execution_count": 57,
   "metadata": {},
   "outputs": [],
   "source": [
    "cca_df= pd.DataFrame(X).join(pd.DataFrame(yt_cen))\n",
    "cca_data = cca_df[cca_df['event']==True]\n",
    "cca_yt = Surv.from_arrays(event=cca_data['event'], time=cca_data['time'])\n",
    "cca_X = cca_data[cca_data.columns[:-2]]"
   ]
  },
  {
   "cell_type": "code",
   "execution_count": 58,
   "metadata": {},
   "outputs": [
    {
     "data": {
      "text/plain": [
       "0.695368558382257"
      ]
     },
     "execution_count": 58,
     "metadata": {},
     "output_type": "execute_result"
    }
   ],
   "source": [
    "X_train_cca, X_tes_cca, y_train_cca, y_test_cca = train_test_split(cca_X, cca_yt, test_size=0.2, random_state=random_state)\n",
    "# basic RSF model\n",
    "\n",
    "rsf_cen = rsf.fit(X_train_cca, y_train_cca)\n",
    "rsf_cen.score(X_tes_cca, y_test_cca)"
   ]
  },
  {
   "cell_type": "markdown",
   "metadata": {},
   "source": [
    "#Metric functions"
   ]
  },
  {
   "cell_type": "code",
   "execution_count": 44,
   "metadata": {},
   "outputs": [],
   "source": [
    "## Create function to test all metrics in one swoop\n",
    "\n",
    "def test_metrics(models, X_train = X_train, y_train = y_train, X_test = X_test, y_test=y_test):\n",
    "    from sksurv.metrics import (\n",
    "    concordance_index_censored,\n",
    "    concordance_index_ipcw,\n",
    "    cumulative_dynamic_auc,\n",
    "    integrated_brier_score, brier_score\n",
    ")\n",
    "    print(len(models))\n",
    "\n",
    "    metrics_dic = {}\n",
    "    # Max time calculation for evaluation\n",
    "    max_time_test = round(max(y_test['time']),0)-1\n",
    "    for model in models:\n",
    "        scores = {}\n",
    "    #c-index\n",
    "        c_index = rsf.score(X_test, y_test)\n",
    "        scores['C-index'] = round(c_index,3)\n",
    "\n",
    "\n",
    "   \n",
    "    # Brier score\n",
    "        survs = model.predict_survival_function(X_test)\n",
    "\n",
    "    \n",
    "        preds = [fn(max_time_test) for fn in survs]\n",
    "        score_brier = brier_score(y_train, y_test, preds, max_time_test)\n",
    "        scores['Brier score'] = round(float(score_brier[1]),4)\n",
    "\n",
    "\n",
    "        metrics_dic[f'{str(model)}'] = scores\n",
    "\n",
    "\n",
    "    return metrics_dic\n",
    "\n",
    "def time_dependent_roc(models, X_train = X_train, y_train = y_train, X_test = X_test, y_test=y_test):\n",
    "    max_time_test = round(max(y_test['time']),0)-1\n",
    "    times = np.arange(8, max_time_test, 7)\n",
    "    model_auc_dic = {}\n",
    "    for model in models:\n",
    "        temp_dic = {}\n",
    "        temp_dic[f'{model}_funcs'] = model.predict_cumulative_hazard_function(X_test, return_array=False)\n",
    "        temp_dic[f'{str(model)}_scores'] = np.vstack([chf(times) for chf in temp_dic[f'{model}_funcs']])\n",
    "\n",
    "\n",
    "        temp_dic[f'{str(model)}_auc'], temp_dic[f'{str(model)}_mean_auc'] = cumulative_dynamic_auc(y_train, y_test, temp_dic[f'{str(model)}_scores'], times)\n",
    "        #print(temp_dic)\n",
    "        plt.plot(times, temp_dic[f'{str(model)}_auc'] , \"o-\", label=f\"RSF (mean AUC = {temp_dic[f'{str(model)}_mean_auc']})\")\n",
    "    plt.xlabel(\"days from enrollment\")\n",
    "    plt.ylabel(\"time-dependent AUC\")\n",
    "    plt.legend(loc=\"lower center\")\n",
    "    plt.grid(True)"
   ]
  },
  {
   "cell_type": "code",
   "execution_count": 42,
   "metadata": {},
   "outputs": [
    {
     "name": "stdout",
     "output_type": "stream",
     "text": [
      "2\n"
     ]
    },
    {
     "data": {
      "text/plain": [
       "{'RandomSurvivalForest(random_state=42)': {'C-index': 0.674,\n",
       "  'Brier score': 0.0067}}"
      ]
     },
     "execution_count": 42,
     "metadata": {},
     "output_type": "execute_result"
    }
   ],
   "source": [
    "test_metrics([rsf,rsf_cen])\n"
   ]
  },
  {
   "cell_type": "code",
   "execution_count": 45,
   "metadata": {},
   "outputs": [
    {
     "data": {
      "image/png": "[encoded data removed]",
      "text/plain": [
       "<Figure size 640x480 with 1 Axes>"
      ]
     },
     "metadata": {},
     "output_type": "display_data"
    }
   ],
   "source": [
    "time_dependent_roc([rsf, rsf_cen])"
   ]
  },
  {
   "cell_type": "code",
   "execution_count": 10,
   "metadata": {},
   "outputs": [],
   "source": [
    "y_events = y_train[y_train[\"event\"]]\n",
    "train_min, train_max = y_events[\"time\"].min(), y_events[\"time\"].max()\n",
    "\n",
    "y_events = y_test[y_test[\"event\"]]\n",
    "test_min, test_max = y_events[\"time\"].min(), y_events[\"time\"].max()\n",
    "\n",
    "assert (\n",
    "    train_min <= test_min < test_max < train_max\n",
    "), \"time range or test data is not within time range of training data.\""
   ]
  },
  {
   "cell_type": "code",
   "execution_count": null,
   "metadata": {},
   "outputs": [],
   "source": [
    "# calculate Brier score\n",
    "\n",
    "survs = rsf.predict_survival_function(X_test)\n",
    "\n",
    "max_time_test = round(max(y_test['time']))\n",
    "preds = [fn(max_time_test) for fn in survs]\n",
    "score = brier_score(y_train, y_test, preds, max_time_test)\n",
    "score"
   ]
  },
  {
   "cell_type": "code",
   "execution_count": null,
   "metadata": {},
   "outputs": [],
   "source": [
    "# calculate concordance index\n",
    "rsf.score(X_test, y_test)"
   ]
  },
  {
   "cell_type": "code",
   "execution_count": null,
   "metadata": {},
   "outputs": [],
   "source": [
    "va_times = np.arange(8, max_time_test, 7)\n",
    "rsf_risk_scores = rsf.predict(X_test)\n",
    "cph_auc, cph_mean_auc = cumulative_dynamic_auc(y_train, y_test, rsf_risk_scores, va_times)\n",
    "\n",
    "plt.plot(va_times, cph_auc, marker=\"o\")\n",
    "plt.axhline(cph_mean_auc, linestyle=\"--\")\n",
    "plt.xlabel(\"days from enrollment\")\n",
    "plt.ylabel(\"time-dependent AUC\")\n",
    "plt.grid(True)\n"
   ]
  },
  {
   "cell_type": "code",
   "execution_count": 14,
   "metadata": {},
   "outputs": [],
   "source": [
    "rsf_chf_funcs = rsf.predict_cumulative_hazard_function(X_test, return_array=False)\n",
    "rsf_risk_scores = np.vstack([chf(va_times) for chf in rsf_chf_funcs])\n",
    "\n",
    "rsf_auc, rsf_mean_auc = cumulative_dynamic_auc(y_train, y_test, rsf_risk_scores, va_times)"
   ]
  },
  {
   "cell_type": "code",
   "execution_count": null,
   "metadata": {},
   "outputs": [],
   "source": [
    "\n",
    "plt.plot(va_times, rsf_auc, \"o-\", label=f\"RSF (mean AUC = {rsf_mean_auc:.3f})\")\n",
    "plt.xlabel(\"days from enrollment\")\n",
    "plt.ylabel(\"time-dependent AUC\")\n",
    "plt.legend(loc=\"lower center\")\n",
    "plt.grid(True)"
   ]
  }
 ],
 "metadata": {
  "kernelspec": {
   "display_name": "datascience",
   "language": "python",
   "name": "python3"
  },
  "language_info": {
   "codemirror_mode": {
    "name": "ipython",
    "version": 3
   },
   "file_extension": ".py",
   "mimetype": "text/x-python",
   "name": "python",
   "nbconvert_exporter": "python",
   "pygments_lexer": "ipython3",
   "version": "3.11.5"
  }
 },
 "nbformat": 4,
 "nbformat_minor": 2
}
