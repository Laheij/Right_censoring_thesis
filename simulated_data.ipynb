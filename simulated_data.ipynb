{
 "cells": [
  {
   "cell_type": "code",
   "execution_count": 1,
   "metadata": {},
   "outputs": [],
   "source": [
    "\n",
    "from sklearn.datasets import make_regression\n",
    "import numpy as np\n",
    "import pandas as pd\n",
    "from scipy.stats import expon\n",
    "import pandas as pd\n",
    "import numpy as np\n",
    "\n",
    "\n",
    "import pandas as pd\n",
    "import matplotlib.pyplot as plt\n",
    "import numpy as np\n",
    "\n",
    "%matplotlib inline\n",
    "\n",
    "from sklearn import set_config\n",
    "from sklearn.model_selection import train_test_split\n",
    "from sklearn.preprocessing import OrdinalEncoder\n",
    "\n",
    "from sksurv.datasets import load_gbsg2\n",
    "from sksurv.preprocessing import OneHotEncoder\n",
    "from sksurv.ensemble import RandomSurvivalForest\n",
    "from sksurv.metrics import brier_score\n",
    "\n",
    "from sksurv.metrics import (\n",
    "    concordance_index_censored,\n",
    "    concordance_index_ipcw,\n",
    "    cumulative_dynamic_auc,\n",
    "    integrated_brier_score,\n",
    ")\n",
    "\n",
    "from sklearn.model_selection import KFold"
   ]
  },
  {
   "cell_type": "code",
   "execution_count": 3,
   "metadata": {},
   "outputs": [],
   "source": [
    "from sklearn.datasets import make_regression\n",
    "\n",
    "import numpy as np\n",
    "n_samples = 1000\n",
    "hazard_ratio = 2.0\n",
    "random_state = 42\n",
    "X, y = make_regression(n_samples=n_samples, n_features=10, noise=1, random_state=n_samples)\n",
    "time_event =  abs(y)\n",
    "event = np.full(n_samples, True)\n",
    "max_time = max(y)\n",
    "from sksurv.util import Surv\n",
    "yt = Surv.from_arrays(event=event, time=time_event)"
   ]
  },
  {
   "cell_type": "code",
   "execution_count": 11,
   "metadata": {},
   "outputs": [],
   "source": [
    "X_train, X_test, y_train, y_test = train_test_split(X, yt, test_size=0.2, random_state=random_state)"
   ]
  },
  {
   "cell_type": "markdown",
   "metadata": {},
   "source": [
    "# Create censored data\n"
   ]
  },
  {
   "cell_type": "code",
   "execution_count": 5,
   "metadata": {},
   "outputs": [],
   "source": [
    "\n",
    "def censor_data(data):\n",
    "# Generate a random censoring amount between 0.1 and 0.3\n",
    "    random_censoring = np.random.uniform(0.1, 0.3)\n",
    "\n",
    "# Determine the number of observations to censor\n",
    "    n_to_censor = int(len(data) * random_censoring)\n",
    "\n",
    "# Ensure we do not exceed the length of the DataFrame\n",
    "    n_to_censor = min(n_to_censor, len(data))\n",
    "\n",
    "# Randomly select indices to censor\n",
    "    counter_list = np.random.choice(len(data), n_to_censor, replace=False)\n",
    "\n",
    "    data_cen = pd.DataFrame(columns=['event','time'])\n",
    "    counter = 0\n",
    "    for event, time in data:\n",
    "    \n",
    "        if counter in counter_list:\n",
    "            event = False\n",
    "            time_cen = np.random.uniform(low=0, high=time, size=1)\n",
    "            time = time_cen\n",
    "       \n",
    "\n",
    "    \n",
    "        \n",
    "        data_cen.loc[counter] =  [event,time]\n",
    "        counter += 1\n",
    "    return data_cen\n"
   ]
  },
  {
   "cell_type": "code",
   "execution_count": 6,
   "metadata": {},
   "outputs": [],
   "source": [
    "y_cen = censor_data(yt)\n",
    "yt_cen = Surv.from_arrays(event=y_cen['event'], time=y_cen['time'])"
   ]
  },
  {
   "cell_type": "markdown",
   "metadata": {},
   "source": [
    "## create methods data\n",
    "#CCA"
   ]
  },
  {
   "cell_type": "code",
   "execution_count": 7,
   "metadata": {},
   "outputs": [],
   "source": [
    "cca_df= pd.DataFrame(X).join(pd.DataFrame(yt_cen))\n",
    "cca_data = cca_df[cca_df['event']==True]\n",
    "cca_yt = Surv.from_arrays(event=cca_data['event'], time=cca_data['time'])\n",
    "cca_X = cca_data[cca_data.columns[:-2]]"
   ]
  },
  {
   "cell_type": "markdown",
   "metadata": {},
   "source": [
    "## Plot the difference in time of the dataset"
   ]
  },
  {
   "cell_type": "code",
   "execution_count": 8,
   "metadata": {},
   "outputs": [
    {
     "data": {
      "image/png": "[encoded data removed]",
      "text/plain": [
       "<Figure size 432x288 with 1 Axes>"
      ]
     },
     "metadata": {
      "needs_background": "light"
     },
     "output_type": "display_data"
    }
   ],
   "source": [
    "plt.hist(yt['time'], bins='auto', label= 'Simulated data')  # arguments are passed to np.histogram\n",
    "plt.hist(yt_cen['time'], bins='auto', label= 'Simulated data censored')  # arguments are passed to np.histogram\n",
    "plt.hist(cca_yt['time'], bins='auto', label= 'Complete case analysis data')  # arguments are passed to np.histogram\n",
    "plt.title(\"Histogram with 'auto' bins\")\n",
    "plt.legend()\n",
    "plt.show()"
   ]
  },
  {
   "cell_type": "markdown",
   "metadata": {},
   "source": [
    "#Complete Case analyses\n",
    "Checking if event equals True, else delete;"
   ]
  },
  {
   "cell_type": "code",
   "execution_count": 9,
   "metadata": {},
   "outputs": [],
   "source": [
    "cca_df= pd.DataFrame(X).join(pd.DataFrame(yt_cen))\n",
    "cca_data = cca_df[cca_df['event']==True]\n",
    "cca_yt = Surv.from_arrays(event=cca_data['event'], time=cca_data['time'])\n",
    "cca_X = cca_data[cca_data.columns[:-2]]"
   ]
  },
  {
   "cell_type": "markdown",
   "metadata": {},
   "source": [
    "# Metric functions"
   ]
  },
  {
   "cell_type": "code",
   "execution_count": 12,
   "metadata": {},
   "outputs": [],
   "source": [
    "## Create function to test all metrics in one swoop\n",
    "\n",
    "def test_metrics(models, X_train = X_train, y_train = y_train, X_test = X_test, y_test=y_test):\n",
    "    from sksurv.metrics import (\n",
    "    concordance_index_censored,\n",
    "    concordance_index_ipcw,\n",
    "    cumulative_dynamic_auc,\n",
    "    integrated_brier_score, brier_score\n",
    ")\n",
    "    print(len(models))\n",
    "\n",
    "    metrics_dic = {}\n",
    "    # Max time calculation for evaluation\n",
    "    max_time_test = round(max(y_test['time']),0)-1\n",
    "    for model in models:\n",
    "        scores = {}\n",
    "    #c-index\n",
    "        c_index = rsf.score(X_test, y_test)\n",
    "        scores['C-index'] = round(c_index,3)\n",
    "\n",
    "\n",
    "   \n",
    "    # Brier score\n",
    "        survs = model.predict_survival_function(X_test)\n",
    "\n",
    "    \n",
    "        preds = [fn(max_time_test) for fn in survs]\n",
    "        score_brier = brier_score(y_train, y_test, preds, max_time_test)\n",
    "        scores['Brier score'] = round(float(score_brier[1]),4)\n",
    "\n",
    "\n",
    "        metrics_dic[f'{str(model)}'] = scores\n",
    "\n",
    "\n",
    "    return metrics_dic\n",
    "\n",
    "def time_dependent_roc(models, X_train = X_train, y_train = y_train, X_test = X_test, y_test=y_test):\n",
    "    max_time_test = round(max(y_test['time']),0)-1\n",
    "    times = np.arange(8, max_time_test, 24) \n",
    "    model_auc_dic = {}\n",
    "    for model in models:\n",
    "        temp_dic = {}\n",
    "        temp_dic[f'{model}_funcs'] = model.predict_cumulative_hazard_function(X_test, return_array=False)\n",
    "        temp_dic[f'{str(model)}_scores'] = np.vstack([chf(times) for chf in temp_dic[f'{model}_funcs']])\n",
    "\n",
    "\n",
    "        temp_dic[f'{str(model)}_auc'], temp_dic[f'{str(model)}_mean_auc'] = cumulative_dynamic_auc(y_train, y_test, temp_dic[f'{str(model)}_scores'], times)\n",
    "        #print(temp_dic)\n",
    "        plt.plot(times, temp_dic[f'{str(model)}_auc'] , \"o-\", label=f\"RSF (mean AUC = {temp_dic[f'{str(model)}_mean_auc']})\")\n",
    "    plt.xlabel(\"days from enrollment\")\n",
    "    plt.ylabel(\"time-dependent AUC\")\n",
    "    plt.legend(loc=\"lower center\")\n",
    "    plt.grid(True)"
   ]
  },
  {
   "cell_type": "markdown",
   "metadata": {},
   "source": [
    "# Basline model"
   ]
  },
  {
   "cell_type": "code",
   "execution_count": 14,
   "metadata": {},
   "outputs": [
    {
     "data": {
      "text/plain": [
       "0.7153266331658291"
      ]
     },
     "execution_count": 14,
     "metadata": {},
     "output_type": "execute_result"
    }
   ],
   "source": [
    "# basic RSF model\n",
    "rsf = RandomSurvivalForest(random_state = random_state)\n",
    "rsf.fit(X_train, y_train)\n",
    "rsf.score(X_test, y_test)\n",
    "\n"
   ]
  },
  {
   "cell_type": "code",
   "execution_count": 19,
   "metadata": {},
   "outputs": [],
   "source": [
    "prediction_prob = rsf.predict_survival_function(X_test, return_array=True)\n",
    "\n"
   ]
  },
  {
   "cell_type": "markdown",
   "metadata": {},
   "source": [
    "## Creating models using the different methods"
   ]
  },
  {
   "cell_type": "code",
   "execution_count": 4,
   "metadata": {},
   "outputs": [
    {
     "ename": "NameError",
     "evalue": "name 'X_train_cen' is not defined",
     "output_type": "error",
     "traceback": [
      "\u001b[0;31m---------------------------------------------------------------------------\u001b[0m",
      "\u001b[0;31mNameError\u001b[0m                                 Traceback (most recent call last)",
      "Input \u001b[0;32mIn [4]\u001b[0m, in \u001b[0;36m<cell line: 3>\u001b[0;34m()\u001b[0m\n\u001b[1;32m      1\u001b[0m \u001b[38;5;66;03m# basic RSF model\u001b[39;00m\n\u001b[1;32m      2\u001b[0m rsf \u001b[38;5;241m=\u001b[39m RandomSurvivalForest(random_state \u001b[38;5;241m=\u001b[39m random_state)\n\u001b[0;32m----> 3\u001b[0m rsf_cen \u001b[38;5;241m=\u001b[39m rsf\u001b[38;5;241m.\u001b[39mfit(\u001b[43mX_train_cen\u001b[49m, y_train_cen)\n\u001b[1;32m      4\u001b[0m rsf_cen\u001b[38;5;241m.\u001b[39mscore(X_tes_cen, y_test_cen)\n",
      "\u001b[0;31mNameError\u001b[0m: name 'X_train_cen' is not defined"
     ]
    }
   ],
   "source": [
    "# basic RSF model\n",
    "rsf = RandomSurvivalForest(random_state = random_state)\n",
    "rsf_cen = rsf.fit(X_train_cen, y_train_cen)\n",
    "rsf_cen.score(X_tes_cen, y_test_cen)\n"
   ]
  },
  {
   "cell_type": "code",
   "execution_count": null,
   "metadata": {},
   "outputs": [],
   "source": []
  },
  {
   "cell_type": "code",
   "execution_count": null,
   "metadata": {},
   "outputs": [],
   "source": [
    "## Censored model\n",
    "\n",
    "X_train_cen, X_tes_cen, y_train_cen, y_test_cen = train_test_split(X, yt_cen, test_size=0.2, random_state=random_state)"
   ]
  },
  {
   "cell_type": "code",
   "execution_count": null,
   "metadata": {},
   "outputs": [],
   "source": [
    "## CCA\n",
    "def complete_case_analysis(basemodel, X, y):\n",
    "    cca_df= pd.DataFrame(X).join(pd.DataFrame(yt_cen))\n",
    "    cca_data = cca_df[cca_df['event']==True]\n",
    "    cca_yt = Surv.from_arrays(event=cca_data['event'], time=cca_data['time'])\n",
    "    cca_X = cca_data[cca_data.columns[:-2]]\n",
    "\n",
    "    X_train_cca, X_tes_cca, y_train_cca, y_test_cca = train_test_split(cca_X, cca_yt, test_size=0.2, random_state=random_state)\n",
    "\n",
    "    rsf_cca = rsf.fit(X_train_cca, y_train_cca)\n",
    "    \n",
    "\n",
    "    results = test_metrics([rsf_cca], X_train_cca,  y_train_cca, X_tes_cca, y_test_cca)\n",
    "    plot = time_dependent_roc([rsf_cca], X_train_cca,  y_train_cca, X_tes_cca, y_test_cca)\n",
    "    return results, plot"
   ]
  },
  {
   "cell_type": "code",
   "execution_count": null,
   "metadata": {},
   "outputs": [],
   "source": [
    "## Imputation\n",
    "\n"
   ]
  },
  {
   "cell_type": "code",
   "execution_count": null,
   "metadata": {},
   "outputs": [],
   "source": []
  },
  {
   "cell_type": "code",
   "execution_count": null,
   "metadata": {},
   "outputs": [],
   "source": [
    "## STUART\n",
    "\n",
    "def stuart(basemodel, X, y):\n",
    "\n",
    "    # split into two groups, #1 censored #2 uncensored\n",
    "    def complete_case_analysis(X, y):\n",
    "        cca_df= pd.DataFrame(X).join(pd.DataFrame(yt_cen))\n",
    "        non_censored_data = cca_df[cca_df['event']==True]\n",
    "\n",
    "        censored_data = cca_df[cca_df['event']==False]\n",
    "\n",
    "        return censored_data, non_censored_data\n",
    "\n",
    "    # split data for model on complete dataset\n",
    "\n",
    "    def prepare_data(data):\n",
    "        event_time = Surv.from_arrays(event=data['event'], time=data['time'])\n",
    "        features = data[data.columns[:-2]]\n",
    "\n",
    "        return  event_time, features\n",
    "\n",
    "    censored_data, uncensored_data = complete_case_analysis(X, y)\n",
    "\n",
    "    censored_data_event_time, censored_data_features = prepare_data(censored_data)\n",
    "    uncensored_data_event_time, uncensored_data_features = prepare_data(uncensored_data)\n",
    "\n",
    "    # fit uncensored data to model\n",
    "\n",
    "    def fit_model(model, prepared_X, prepared_event_time):\n",
    "        trained_model = model.fit(prepared_X, prepared_event_time)\n",
    "        return trained_model\n",
    "\n",
    "    # predict censored data and compare highest proba\n",
    "    def predict_uncensored(trained_model, censored_data_features):\n",
    "        prob_pred = model.predict_proba(censored_data_features)\n",
    "\n",
    "        # check if probability is high enough\n",
    "        \n",
    "\n",
    "\n",
    "\n",
    "        # check if predicted >= censored time (95% CI)\n",
    "        predicted = model.predict(censored_data_features)\n",
    "\n",
    "        for prec\n",
    "        return prob_pred\n",
    "\n",
    "        \n",
    "\n",
    "    \n",
    "\n",
    "\n",
    "    return results, plot"
   ]
  },
  {
   "cell_type": "code",
   "execution_count": 97,
   "metadata": {},
   "outputs": [],
   "source": [
    "## ICPW\n",
    "\n",
    "def icpw_model(basemodel, X, yt):\n",
    "    from sklearn.linear_model import LogisticRegression\n",
    "# Fit a logistic regression model to predict censoring\n",
    "    X_censor =  X\n",
    "\n",
    "    y_censor = 1  - yt_cen['event'].astype('int')  # 1 for censored, 0 for event\n",
    "\n",
    "#cca_yt = Surv.from_arrays(event=cca_data['event'], time=cca_data['time'])\n",
    "    model = LogisticRegression()\n",
    "    model.fit(X_censor, y_censor)\n",
    "\n",
    "    yt = pd.DataFrame(columns=['event', 'time'], data= yt)\n",
    "# Predict the probability of being censored\n",
    "    censor_prob = model.predict_proba(X_censor)[:, 1]\n",
    "    yt['weights'] = 1 / censor_prob\n",
    "    X_train, X_test, y_train, y_test = train_test_split(X_censor, yt, test_size=0.2, random_state=random_state)\n",
    "    yt_temp_train = Surv.from_arrays(event=y_train['event'], time=y_train['time'])\n",
    "    yt_temp_test = Surv.from_arrays(event=y_test['event'], time=y_test['time'])\n",
    "    rsf_ICPW = basemodel.fit(X_train,yt_temp_train , np.asanyarray(y_train['weights'].values))\n",
    "\n",
    "    results = test_metrics([rsf_ICPW], X_train,  yt_temp_train, X_test, yt_temp_test)\n",
    "    plot = time_dependent_roc([rsf_ICPW], X_train,  yt_temp_train, X_test, yt_temp_test)\n",
    "\n",
    "    return results, plot\n"
   ]
  },
  {
   "cell_type": "code",
   "execution_count": 99,
   "metadata": {},
   "outputs": [
    {
     "name": "stdout",
     "output_type": "stream",
     "text": [
      "1\n"
     ]
    },
    {
     "data": {
      "text/plain": [
       "{'RandomSurvivalForest(random_state=42)': {'C-index': 0.715,\n",
       "  'Brier score': 0.0053}}"
      ]
     },
     "execution_count": 99,
     "metadata": {},
     "output_type": "execute_result"
    },
    {
     "data": {
      "image/png": "[encoded data removed]",
      "text/plain": [
       "<Figure size 640x480 with 1 Axes>"
      ]
     },
     "metadata": {},
     "output_type": "display_data"
    }
   ],
   "source": [
    "result, plot = icpw_model(rsf, X, yt)\n",
    "result\n"
   ]
  }
 ],
 "metadata": {
  "kernelspec": {
   "display_name": "datascience",
   "language": "python",
   "name": "python3"
  },
  "language_info": {
   "codemirror_mode": {
    "name": "ipython",
    "version": 3
   },
   "file_extension": ".py",
   "mimetype": "text/x-python",
   "name": "python",
   "nbconvert_exporter": "python",
   "pygments_lexer": "ipython3",
   "version": "3.9.12"
  }
 },
 "nbformat": 4,
 "nbformat_minor": 2
}
