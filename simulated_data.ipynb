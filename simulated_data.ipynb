{
 "cells": [
  {
   "cell_type": "code",
   "execution_count": 10,
   "metadata": {},
   "outputs": [
    {
     "name": "stdout",
     "output_type": "stream",
     "text": [
      "  var0 var1 var2 var3 var4 var5 var6 var7 var8 var9  ...   var_num2  \\\n",
      "0    D    C    C    D    B    A    C    B    A    B  ...  31.609589   \n",
      "1    C    C    A    D    A    D    D    C    A    C  ...  45.671854   \n",
      "2    C    C    A    C    D    A    C    D    C    A  ...  24.688700   \n",
      "3    C    C    D    A    A    B    D    C    A    C  ...  21.831327   \n",
      "4    D    D    C    C    C    A    D    C    A    B  ...  41.916471   \n",
      "\n",
      "    var_num3  var_num4   var_num5   var_num6   var_num7   var_num8   var_num9  \\\n",
      "0  28.943797  4.966098  39.786804  94.683494  29.862049  10.238571   1.696885   \n",
      "1  52.571136  3.358123  80.715897  15.780523  58.544244   3.404533  12.733252   \n",
      "2   1.949908  4.590562  41.661676  17.772078  49.566707   8.639596  14.872851   \n",
      "3  39.099953  3.539070  90.871211  55.453370  54.376951  49.609450  37.612673   \n",
      "4  46.331342  1.868766  89.069661  62.490307  15.169098  23.613163   7.898751   \n",
      "\n",
      "   observed_times  events  \n",
      "0      156.422697       1  \n",
      "1      988.969229       0  \n",
      "2      438.915231       1  \n",
      "3      304.314185       1  \n",
      "4       56.541623       1  \n",
      "\n",
      "[5 rows x 22 columns]\n"
     ]
    }
   ],
   "source": [
    "import numpy as np\n",
    "import pandas as pd\n",
    "from scipy.stats import expon\n",
    "\n",
    "# Set a seed for reproducibility\n",
    "np.random.seed(42)\n",
    "\n",
    "# Parameters\n",
    "n = 1000  # Number of individuals\n",
    "rate = 0.003  # Event rate (for exponential distribution)\n",
    "\n",
    "# Generate survival times from exponential distribution\n",
    "survival_times = expon(scale=1/rate).rvs(n)\n",
    "\n",
    "# Generate random censoring times\n",
    "censoring_times = np.random.uniform(0, 5*365, size=n)\n",
    "\n",
    "\n",
    "\n",
    "# Observed time is the minimum of survival time and censoring time\n",
    "observed_times = np.minimum(survival_times, censoring_times)\n",
    "\n",
    "# Create an event indicator (1 if event observed, 0 if censored)\n",
    "events = (survival_times <= censoring_times).astype(int)\n",
    "\n",
    "#Create random columns containing 4\n",
    "variables = {}\n",
    "random_array = ['A', 'B', 'C', 'D']\n",
    "for i in range(10):\n",
    "    \n",
    "    variables[f'var{i}'] = np.random.choice(random_array, 1000)\n",
    "\n",
    "\n",
    "\n",
    "random_array = ['A', 'B', 'C', 'D']\n",
    "for i in range(10):\n",
    "    \n",
    "    variables[f'var_num{i}'] = np.random.uniform(0, np.random.uniform(0,100), size=n)\n",
    "\n",
    "# Put data into a pandas DataFrame\n",
    "survival_data = pd.DataFrame({\n",
    "    'observed_times': observed_times,\n",
    "    'events': events\n",
    "})\n",
    "\n",
    "variable_data = pd.DataFrame(variables)\n",
    "\n",
    "df = variable_data.join(survival_data)\n",
    "\n",
    "# Show the first few rows of the simulated data\n",
    "print(df.head())\n"
   ]
  }
 ],
 "metadata": {
  "kernelspec": {
   "display_name": "datascience",
   "language": "python",
   "name": "python3"
  },
  "language_info": {
   "codemirror_mode": {
    "name": "ipython",
    "version": 3
   },
   "file_extension": ".py",
   "mimetype": "text/x-python",
   "name": "python",
   "nbconvert_exporter": "python",
   "pygments_lexer": "ipython3",
   "version": "3.8.18"
  }
 },
 "nbformat": 4,
 "nbformat_minor": 2
}
