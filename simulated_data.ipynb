{
 "cells": [
  {
   "cell_type": "code",
   "execution_count": 1,
   "metadata": {},
   "outputs": [],
   "source": [
    "\n",
    "from sklearn.datasets import make_regression\n",
    "import numpy as np\n",
    "import pandas as pd\n",
    "from scipy.stats import expon\n",
    "import pandas as pd\n",
    "import numpy as np\n",
    "\n",
    "\n",
    "import pandas as pd\n",
    "import matplotlib.pyplot as plt\n",
    "import numpy as np\n",
    "\n",
    "%matplotlib inline\n",
    "\n",
    "from sklearn import set_config\n",
    "from sklearn.model_selection import train_test_split\n",
    "from sklearn.preprocessing import OrdinalEncoder\n",
    "\n",
    "from sksurv.datasets import load_gbsg2\n",
    "from sksurv.preprocessing import OneHotEncoder\n",
    "from sksurv.ensemble import RandomSurvivalForest\n",
    "from sksurv.metrics import brier_score\n",
    "\n",
    "from sksurv.metrics import (\n",
    "    concordance_index_censored,\n",
    "    concordance_index_ipcw,\n",
    "    cumulative_dynamic_auc,\n",
    "    integrated_brier_score,\n",
    ")\n",
    "\n",
    "from sklearn.model_selection import KFold"
   ]
  },
  {
   "cell_type": "code",
   "execution_count": 2,
   "metadata": {},
   "outputs": [],
   "source": [
    "from sklearn.datasets import make_regression\n",
    "\n",
    "import numpy as np\n",
    "n_samples = 1000\n",
    "hazard_ratio = 2.0\n",
    "random_state = 42\n",
    "X, y = make_regression(n_samples=n_samples, n_features=10, noise=1, random_state=n_samples)\n",
    "time_event =  abs(y)\n",
    "event = np.full(n_samples, True)\n",
    "max_time = max(y)\n",
    "from sksurv.util import Surv\n",
    "yt = Surv.from_arrays(event=event, time=time_event)"
   ]
  },
  {
   "cell_type": "code",
   "execution_count": 3,
   "metadata": {},
   "outputs": [],
   "source": [
    "X_train, X_test, y_train, y_test = train_test_split(X, yt, test_size=0.2, random_state=random_state)"
   ]
  },
  {
   "cell_type": "markdown",
   "metadata": {},
   "source": [
    "# Create censored data\n"
   ]
  },
  {
   "cell_type": "code",
   "execution_count": 4,
   "metadata": {},
   "outputs": [],
   "source": [
    "\n",
    "def censor_data(data):\n",
    "# Generate a random censoring amount between 0.1 and 0.3\n",
    "    random_censoring = np.random.uniform(0.1, 0.3)\n",
    "\n",
    "# Determine the number of observations to censor\n",
    "    n_to_censor = int(len(data) * random_censoring)\n",
    "\n",
    "# Ensure we do not exceed the length of the DataFrame\n",
    "    n_to_censor = min(n_to_censor, len(data))\n",
    "\n",
    "# Randomly select indices to censor\n",
    "    counter_list = np.random.choice(len(data), n_to_censor, replace=False)\n",
    "\n",
    "    data_cen = pd.DataFrame(columns=['event','time'])\n",
    "    counter = 0\n",
    "    for event, time in data:\n",
    "    \n",
    "        if counter in counter_list:\n",
    "            event = False\n",
    "            time_cen = np.random.uniform(low=0, high=time, size=1)\n",
    "            time = time_cen\n",
    "       \n",
    "\n",
    "    \n",
    "        \n",
    "        data_cen.loc[counter] =  [event,time]\n",
    "        counter += 1\n",
    "    return data_cen\n"
   ]
  },
  {
   "cell_type": "code",
   "execution_count": 5,
   "metadata": {},
   "outputs": [],
   "source": [
    "y_cen = censor_data(yt)\n",
    "yt_cen = Surv.from_arrays(event=y_cen['event'], time=y_cen['time'])"
   ]
  },
  {
   "cell_type": "markdown",
   "metadata": {},
   "source": [
    "## create dataframe\n",
    "#CCA"
   ]
  },
  {
   "cell_type": "code",
   "execution_count": 6,
   "metadata": {},
   "outputs": [],
   "source": [
    "cca_df= pd.DataFrame(X).join(pd.DataFrame(yt_cen))\n",
    "cca_data = cca_df[cca_df['event']==True]\n",
    "cca_yt = Surv.from_arrays(event=cca_data['event'], time=cca_data['time'])\n",
    "cca_X = cca_data[cca_data.columns[:-2]]"
   ]
  },
  {
   "cell_type": "markdown",
   "metadata": {},
   "source": [
    "## Plot the difference in time of the dataset"
   ]
  },
  {
   "cell_type": "code",
   "execution_count": 7,
   "metadata": {},
   "outputs": [
    {
     "data": {
      "image/png": "[encoded data removed]",
      "text/plain": [
       "<Figure size 640x480 with 1 Axes>"
      ]
     },
     "metadata": {},
     "output_type": "display_data"
    }
   ],
   "source": [
    "plt.hist(yt['time'], bins='auto', label= 'Simulated data')  # arguments are passed to np.histogram\n",
    "plt.hist(yt_cen['time'], bins='auto', label= 'Simulated data censored')  # arguments are passed to np.histogram\n",
    "plt.hist(cca_yt['time'], bins='auto', label= 'Complete case analysis data')  # arguments are passed to np.histogram\n",
    "plt.title(\"Histogram with 'auto' bins\")\n",
    "plt.legend()\n",
    "plt.show()"
   ]
  },
  {
   "cell_type": "markdown",
   "metadata": {},
   "source": [
    "#Convert to DF\n",
    "combine X and time event for better control;"
   ]
  },
  {
   "cell_type": "code",
   "execution_count": 8,
   "metadata": {},
   "outputs": [],
   "source": [
    "df= pd.DataFrame(X).join(pd.DataFrame(yt_cen))"
   ]
  },
  {
   "cell_type": "markdown",
   "metadata": {},
   "source": [
    "# Metric functions"
   ]
  },
  {
   "cell_type": "markdown",
   "metadata": {},
   "source": [
    "## Create function to test all metrics in one swoop\n",
    "\n",
    "def test_metrics(models, X_train, y_train, X_test, y_test, df):\n",
    "    from sksurv.metrics import (\n",
    "    concordance_index_censored,\n",
    "    concordance_index_ipcw,\n",
    "    cumulative_dynamic_auc,\n",
    "    integrated_brier_score, brier_score\n",
    ")\n",
    "    #print(len(models))\n",
    "\n",
    "    metrics_dic = {}\n",
    "    # Max time calculation for evaluation\n",
    "     # Get the range of observed times in y_test\n",
    "    min_time = y_test['time'].min()+ 1\n",
    "    max_time = y_test['time'].max() -1\n",
    "    #print(\"Min time:\", y_test['time'].min())\n",
    "    #print(\"Max time:\", y_test['time'].max())\n",
    "\n",
    "    # Generate the time points for AUC computation, constrained to the range of y_test['time']\n",
    "    times = np.linspace(min_time, max_time, num=20)\n",
    "    \n",
    "    # Clip times to ensure they are within the range of observed times in y_test\n",
    "    times = np.clip(times, min_time, max_time)\n",
    "    for model in models:\n",
    "        scores = {}\n",
    "    #c-index\n",
    "        c_index = model.score(X_test, y_test)\n",
    "        scores['C-index'] = round(c_index,3)\n",
    "\n",
    "\n",
    "   \n",
    "    # Brier score\n",
    "        survs = model.predict_survival_function(X_test)\n",
    "\n",
    "    \n",
    "        preds = [fn(max_time) for fn in survs]\n",
    "        score_brier = brier_score(y_train, y_test, preds, max_time)\n",
    "        scores['Brier score'] = round(float(score_brier[1]),4)\n",
    "\n",
    "\n",
    "        metrics_dic[f'{str(model)}'] = scores\n",
    "\n",
    "\n",
    "    return metrics_dic\n",
    "\n",
    "def time_dependent_roc(models, model_name, X_train, y_train, X_test, y_test, df):\n",
    "    # Get the range of observed times in y_test\n",
    "    min_time = y_test['time'].min()+ 1\n",
    "    max_time = y_test['time'].max() -1\n",
    "    #print(\"Min time:\", y_test['time'].min())\n",
    "    #print(\"Max time:\", y_test['time'].max())\n",
    "\n",
    "    # Generate the time points for AUC computation, constrained to the range of y_test['time']\n",
    "    times = np.linspace(min_time, max_time, num=20)\n",
    "    \n",
    "    # Clip times to ensure they are within the range of observed times in y_test\n",
    "    times = np.clip(times, min_time, max_time)\n",
    "    \n",
    "    model_auc_dic = {}\n",
    "    \n",
    "    for model in models:\n",
    "        temp_dic = {}\n",
    "        \n",
    "        # Ensure the model has a cumulative hazard function\n",
    "        temp_dic[f'{model_name}_funcs'] = model.predict_cumulative_hazard_function(X_test, return_array=False)\n",
    "        \n",
    "        # Compute scores based on the cumulative hazard function at each time point\n",
    "        temp_dic[f'{model_name}_scores'] = np.vstack([chf(times) for chf in temp_dic[f'{model_name}_funcs']])\n",
    "        \n",
    "        # Compute time-dependent AUC (assuming 'cumulative_dynamic_auc' is defined elsewhere)\n",
    "        temp_dic[f'{model_name}_auc'], temp_dic[f'{model_name}_mean_auc'] = cumulative_dynamic_auc(y_train, y_test, temp_dic[f'{model_name}_scores'], max_time)\n",
    "        \n",
    "        # Store model AUC values\n",
    "        model_auc_dic[model_name] = temp_dic\n",
    "        \n",
    "        # Plot AUC curve for the current model\n",
    "        plt.plot(times, temp_dic[f'{model_name}_auc'], \"o-\", label=f\"{model_name} (mean AUC = {temp_dic[f'{model_name}_mean_auc']:.2f})\")\n",
    "    \n",
    "    plt.xlabel(\"Days after Enrollment\")\n",
    "    plt.ylabel(\"Time-dependent AUC\")\n",
    "    plt.legend(loc=\"lower center\")\n",
    "    plt.grid(True)\n",
    "    plt.show()"
   ]
  },
  {
   "cell_type": "code",
   "execution_count": 9,
   "metadata": {},
   "outputs": [],
   "source": [
    "def time_dependent_roc(model, y_train, X_test, y_test):\n",
    "    # Get the range of observed times in y_test\n",
    "    min_time = round(min(y_test['time']) + 1,0)\n",
    "    max_time_test = round(max(y_test['time']) -1 ,0 )\n",
    "    max_time_train = round(max(y_train['time']) -1 ,0 )\n",
    "    if max_time_test < max_time_train:\n",
    "        max_time = max_time_test\n",
    "    else:\n",
    "        max_time = max_time_train\n",
    "    #print(\"Min time:\", y_test['time'].min())\n",
    "    #print(\"Max time:\", y_test['time'].max())\n",
    "\n",
    "    # Generate the time points for AUC computation, constrained to the range of y_test['time']\n",
    "    times = np.linspace(min_time, max_time, num=20)\n",
    "    \n",
    "    # Clip times to ensure they are within the range of observed times in y_test\n",
    "    times = np.clip(times, min_time, max_time)\n",
    "    \n",
    "    estimates = model.predict_cumulative_hazard_function(X_test, return_array=False)\n",
    "    estimates_values = np.array([fn(times) for fn in estimates])\n",
    "    auc, mean_auc = cumulative_dynamic_auc(y_train, y_test, estimates_values,times)\n",
    "\n",
    "    plot = plt.plot(times, auc, label = mean_auc)\n",
    "    return plot\n",
    "    \n",
    "    "
   ]
  },
  {
   "cell_type": "code",
   "execution_count": 10,
   "metadata": {},
   "outputs": [],
   "source": [
    "def c_index(model, y_train, X_test, y_test):\n",
    "    c_index = model.score(X_test, y_test)\n",
    "    return c_index"
   ]
  },
  {
   "cell_type": "code",
   "execution_count": 11,
   "metadata": {},
   "outputs": [],
   "source": [
    "# Brier score\n",
    "def brier_score_cal(model, y_train, X_test, y_test):\n",
    "\n",
    "    min_time = round(min(y_test['time']) + 1,0)\n",
    "    max_time = round(max(y_test['time']) -1 ,0 )\n",
    "\n",
    "    times = np.linspace(min_time, max_time, num=20)\n",
    "    times = np.clip(times, min_time, max_time)\n",
    "    survs = model.predict_survival_function(X_test)\n",
    "\n",
    "    \n",
    "    preds = [fn(max_time) for fn in survs]\n",
    "    score_brier = brier_score(y_train, y_test, preds, max_time)\n",
    "    Brier_score = round(float(score_brier[1]),4)\n",
    "    return Brier_score\n",
    "\n"
   ]
  },
  {
   "cell_type": "code",
   "execution_count": 12,
   "metadata": {},
   "outputs": [],
   "source": [
    "def metrics(zip_model):\n",
    "    model, y_train, X_test, y_test = zip_model\n",
    "    brier = brier_score_cal(model, y_train, X_test, y_test)\n",
    "    concordance_index = c_index(model, y_train, X_test, y_test)\n",
    "    plot= time_dependent_roc(model, y_train, X_test, y_test)\n",
    "    \n",
    "    return brier, concordance_index, plot"
   ]
  },
  {
   "cell_type": "markdown",
   "metadata": {},
   "source": [
    "# Basline model"
   ]
  },
  {
   "cell_type": "code",
   "execution_count": 13,
   "metadata": {},
   "outputs": [],
   "source": [
    "# basic RSF model\n",
    "def basic_rsf(df):\n",
    "    rsf = RandomSurvivalForest(random_state = random_state)\n",
    "\n",
    "    yt = Surv.from_arrays(event=df['event'], time=df['time'])\n",
    "    X = df.drop(columns=['event', 'time'])\n",
    "\n",
    "    X_train, X_test, y_train, y_test = train_test_split(X, yt, test_size=0.2, random_state=random_state)\n",
    "    rsf_basic = rsf.fit(X_train,y_train)\n",
    "\n",
    "\n",
    "    #results = test_metrics([rsf_basic], X_train,  y_train, X_test, y_test, cca_df)\n",
    "    #plot = time_dependent_roc([rsf_basic],'base RSF', X_train,  y_train, X_test, y_test, df)\n",
    "    zipped_info = [rsf_basic, y_train, X_test, y_test]\n",
    "    return zipped_info\n"
   ]
  },
  {
   "cell_type": "markdown",
   "metadata": {},
   "source": [
    "## Creating models using the different methods"
   ]
  },
  {
   "cell_type": "code",
   "execution_count": 14,
   "metadata": {},
   "outputs": [],
   "source": [
    "## Censored model\n",
    "\n",
    "X_train_cen, X_tes_cen, y_train_cen, y_test_cen = train_test_split(X, yt_cen, test_size=0.2, random_state=random_state)"
   ]
  },
  {
   "cell_type": "code",
   "execution_count": 15,
   "metadata": {},
   "outputs": [
    {
     "data": {
      "text/plain": [
       "0.7146937842778793"
      ]
     },
     "execution_count": 15,
     "metadata": {},
     "output_type": "execute_result"
    }
   ],
   "source": [
    "# basic RSF model\n",
    "rsf = RandomSurvivalForest(random_state = random_state)\n",
    "rsf_cen = rsf.fit(X_train_cen, y_train_cen)\n",
    "rsf_cen.score(X_tes_cen, y_test_cen)\n"
   ]
  },
  {
   "cell_type": "code",
   "execution_count": 16,
   "metadata": {},
   "outputs": [],
   "source": [
    "## CCA\n",
    "def complete_case_analysis(df):\n",
    "    rsf = RandomSurvivalForest(random_state = random_state)\n",
    "    \n",
    "    cca_df= pd.DataFrame(X).join(pd.DataFrame(yt_cen))\n",
    "    cca_data = cca_df[cca_df['event']==True]\n",
    "    cca_yt = Surv.from_arrays(event=cca_data['event'], time=cca_data['time'])\n",
    "    cca_X = cca_data.drop(columns=['event', 'time'])\n",
    "\n",
    "    X_train, X_test, y_train, y_test = train_test_split(cca_X, cca_yt, test_size=0.2, random_state=random_state)\n",
    "\n",
    "    rsf_cca = rsf.fit(X_train, y_train)\n",
    "    \n",
    "\n",
    "   #results = test_metrics([rsf_cca], X_train,  y_train, X_test, y_test)\n",
    "    #plot = time_dependent_roc([rsf_cca],'CCA', X_train,  y_train, X_test, y_test, cca_df)\n",
    "    zipped_info = [rsf_cca, y_train, X_test, y_test]\n",
    "    return zipped_info"
   ]
  },
  {
   "cell_type": "markdown",
   "metadata": {},
   "source": [
    "## Imputation"
   ]
  },
  {
   "cell_type": "code",
   "execution_count": 17,
   "metadata": {},
   "outputs": [],
   "source": [
    "import numpy as np\n",
    "import pandas as pd\n",
    "from lifelines import WeibullFitter\n",
    "from scipy.stats import weibull_min\n",
    "\n",
    "def imputation_model(df):\n",
    "\n",
    "    def impute_surv_data(df):\n",
    "        rsf = RandomSurvivalForest(random_state = random_state)\n",
    "        censored_data = df[df['event'] == 0].copy()\n",
    "        uncensored_data = df[df['event'] == 1].copy()\n",
    "\n",
    "    # 1. Fit a Weibull model to uncensored data\n",
    "        weibull_fitter = WeibullFitter()\n",
    "        weibull_fitter.fit(uncensored_data['time'], event_observed=uncensored_data['event'])\n",
    "\n",
    "    # Get Weibull parameters for sampling\n",
    "        weibull_shape = weibull_fitter.rho_\n",
    "        weibull_scale = weibull_fitter.lambda_\n",
    "\n",
    "    # 2. Impute times for censored data using the Weibull distribution\n",
    "        imputed_times = []\n",
    "        for index, row in censored_data.iterrows():\n",
    "            observed_time = row['time']\n",
    "            \n",
    "            # Generate a potential event time from the Weibull distribution\n",
    "            potential_event_time = weibull_min.rvs(c=weibull_shape, scale=weibull_scale)\n",
    "            \n",
    "            # Ensure the imputed event time is after the observed (censored) time\n",
    "            if potential_event_time > observed_time:\n",
    "                imputed_times.append(potential_event_time)\n",
    "            else:\n",
    "                imputed_times.append(observed_time + weibull_min.rvs(c=weibull_shape, scale=weibull_scale))  # Add additional time if needed\n",
    "\n",
    "        # Add imputed times to the censored data\n",
    "        censored_data['imputed_time'] = imputed_times\n",
    "\n",
    "        # For uncensored data, the imputed time is the observed time\n",
    "        uncensored_data['imputed_time'] = uncensored_data['time']\n",
    "\n",
    "        # Combine censored and uncensored data back together and set all events to 1\n",
    "        df_imputed = pd.concat([uncensored_data, censored_data], axis=0).sort_index()\n",
    "        df_imputed['event'] = 1  # Set all events to 1\n",
    "\n",
    "        return df_imputed[df_imputed.columns[:-3]], df_imputed[['event','imputed_time']]\n",
    "    rsf = RandomSurvivalForest(random_state = random_state)\n",
    "    X, y = impute_surv_data(df)\n",
    "    \n",
    "    yt = Surv.from_arrays(event=y['event'].astype('bool'), time=y['imputed_time'].rename('time'))\n",
    "    \n",
    "\n",
    "    X_train, X_test, y_train, y_test = train_test_split(X, yt, test_size=0.2, random_state=random_state)\n",
    "    rsf_imp = rsf.fit(X_train, y_train)\n",
    "    \n",
    "\n",
    "    #results = test_metrics([rsf_imp], X_train,  y_train, X_test, y_test)\n",
    "    #plot = time_dependent_roc([rsf_imp],'Imputation', X_train,  y_train, X_test, y_test, cca_df)\n",
    "\n",
    "    zipped_info = [rsf_imp, y_train, X_test, y_test]\n",
    "    return zipped_info\n"
   ]
  },
  {
   "cell_type": "markdown",
   "metadata": {},
   "source": [
    "# STUART"
   ]
  },
  {
   "cell_type": "code",
   "execution_count": 18,
   "metadata": {},
   "outputs": [],
   "source": [
    "import numpy as np\n",
    "import pandas as pd\n",
    "from sksurv.ensemble import RandomSurvivalForest\n",
    "from scipy.stats import norm\n",
    "\n",
    "def stuart(df):\n",
    "    #STUART method\n",
    "\n",
    "    # Function to train a base model\n",
    "    def train_base_model(observed):\n",
    "        # Prepare features (X) and survival data (y) for Random Survival Forest\n",
    "        X_train = observed.drop(columns=['time', 'event'])\n",
    "        y_train = observed[['event', 'time']].to_records(index=False)\n",
    "        \n",
    "        # Initialize and train the Random Survival Forest\n",
    "        model = RandomSurvivalForest(n_estimators=100, min_samples_split=10, min_samples_leaf=3, random_state=0)\n",
    "        model.fit(X_train, y_train)\n",
    "        \n",
    "        return model\n",
    "\n",
    "\n",
    "    def predict_survival_time(model, censored):\n",
    "        X_censored = censored.drop(columns=['time', 'event'])\n",
    "        \n",
    "        # Predict survival functions for each instance\n",
    "        survival_functions = model.predict_survival_function(X_censored)\n",
    "        \n",
    "        predictions = []\n",
    "        variances = []\n",
    "        \n",
    "        # Iterate over survival functions and compute the median survival time (Tp)\n",
    "        for surv_func in survival_functions:\n",
    "            # surv_func is a StepFunction object\n",
    "            # surv_func.x contains the time points and surv_func.y contains the survival probabilities\n",
    "            \n",
    "            # Find the time point where survival probability is closest to 50%\n",
    "            median_time = surv_func.x[np.argmin(np.abs(surv_func.y - 0.5))]  # Median survival time\n",
    "            \n",
    "            predictions.append(median_time)\n",
    "            \n",
    "            # Variance estimation (currently a placeholder, can be refined)\n",
    "            variances.append(2.0)  # Placeholder variance for simplicity\n",
    "        \n",
    "        return np.array(predictions), np.array(variances)\n",
    "\n",
    "\n",
    "    # Function to calculate tolerance interval\n",
    "    def calculate_tolerance_interval(predictions, variances, confidence_level=0.95):\n",
    "        # Calculate 95% tolerance interval using normal distribution\n",
    "        z_score = norm.ppf(1 - (1 - confidence_level) / 2)\n",
    "        lower_bound = predictions - z_score * np.sqrt(variances)\n",
    "        upper_bound = predictions + z_score * np.sqrt(variances)\n",
    "        return lower_bound, upper_bound\n",
    "\n",
    "    # Function to update the training set with confident predictions\n",
    "    def update_training_set(censored, observed, predictions, variances, lower_bound, upper_bound):\n",
    "        confident_predictions = []\n",
    "        new_observed = observed.copy()\n",
    "\n",
    "        for idx, (prediction, variance, lb, ub) in enumerate(zip(predictions, variances, lower_bound, upper_bound)):\n",
    "            Tc = censored.iloc[idx]['time']  # Censoring time of the instance\n",
    "            \n",
    "            # Check if Tc > Tp + 2σ to consider it confident\n",
    "            if Tc > prediction + 2 * np.sqrt(variance):\n",
    "                # Add confident prediction to training data (observed) and remove from censored\n",
    "                new_observed = pd.concat([new_observed, censored.iloc[[idx]]], ignore_index=True)\n",
    "                confident_predictions.append(True)\n",
    "            else:\n",
    "                confident_predictions.append(False)\n",
    "        \n",
    "        # Update censored to remove confident predictions\n",
    "        new_censored = censored[~np.array(confident_predictions)]\n",
    "        \n",
    "        return new_observed, new_censored\n",
    "\n",
    "    # Main function to run the iterative process with Random Survival Forest\n",
    "    def survival_prediction_model(observed, censored, max_iterations=50):\n",
    "        iteration = 0\n",
    "        while iteration < max_iterations:\n",
    "            iteration += 1\n",
    "            \n",
    "            # Train the base Random Survival Forest model on observed data\n",
    "            model = train_base_model(observed)\n",
    "            \n",
    "            # Make predictions for censored instances\n",
    "            predictions, variances = predict_survival_time(model, censored)\n",
    "            \n",
    "            # Sort predictions based on minimum variance (if required)\n",
    "            sorted_indices = np.argsort(variances)\n",
    "            predictions = predictions[sorted_indices]\n",
    "            variances = variances[sorted_indices]\n",
    "            censored_sorted = censored.iloc[sorted_indices]\n",
    "            \n",
    "            # Calculate the tolerance interval for predictions\n",
    "            lower_bound, upper_bound = calculate_tolerance_interval(predictions, variances)\n",
    "            \n",
    "            # Identify confident predictions to add to the training set\n",
    "            observed, censored = update_training_set(censored_sorted, observed, predictions, variances, lower_bound, upper_bound)\n",
    "            \n",
    "            # Stop if no new confident predictions are added\n",
    "            if observed.shape[0] == len(observed):  # Check if training set size increased\n",
    "                print(f\"Iteration {iteration}: No confident predictions added.\")\n",
    "                break\n",
    "\n",
    "        return model, observed\n",
    "    observed  = df[df['event']==True]\n",
    "    censored = df[df['event']==False]\n",
    "    observed['event'] = observed['event'].astype(bool)\n",
    "    censored['event'] = censored['event'].astype(bool)\n",
    "    final_model, final_observed = survival_prediction_model(observed, censored)\n",
    "\n",
    "    def prepare_data(data):\n",
    "        event_time = Surv.from_arrays(event=data['event'], time=data['time'])\n",
    "        features = data[data.columns[:-2]]\n",
    "\n",
    "        return  features, event_time\n",
    "    stuart_X , stuart_y = prepare_data(final_observed)\n",
    "\n",
    "    X_train, X_test, y_train, y_test = train_test_split(stuart_X, stuart_y, test_size=0.2, random_state=random_state)\n",
    "    rsf = RandomSurvivalForest(random_state = random_state)\n",
    "    rsf_stuart = rsf.fit(X_train, y_train)\n",
    "        \n",
    "\n",
    "    #results = test_metrics([rsf_stuart], X_train,  y_train, X_test, y_test, cca_df)\n",
    "    #plot = time_dependent_roc([rsf_stuart],  'STUART', X_train,  y_train, X_test, y_test, cca_df)\n",
    "    #return results, plot\n",
    "\n",
    "    zipped_info = [rsf_stuart, y_train, X_test, y_test]\n",
    "    return zipped_info"
   ]
  },
  {
   "cell_type": "code",
   "execution_count": 19,
   "metadata": {},
   "outputs": [],
   "source": [
    "## ICPW\n",
    "\n",
    "def icpw_model(df):\n",
    "\n",
    "    rsf = RandomSurvivalForest(random_state = random_state)\n",
    "    from sklearn.linear_model import LogisticRegression\n",
    "\n",
    "\n",
    "    def prepare_data(data):\n",
    "            event_time = Surv.from_arrays(event=data['event'], time=data['time'])\n",
    "            features = data[data.columns[:-2]]\n",
    "\n",
    "            return  features, event_time\n",
    "    \n",
    "    X , yt = prepare_data(df)\n",
    "# Fit a logistic regression model to predict censoring\n",
    "    X_censor =  X\n",
    "\n",
    "    y_censor = 1  - yt_cen['event'].astype('int')  # 1 for censored, 0 for event\n",
    "\n",
    "#cca_yt = Surv.from_arrays(event=cca_data['event'], time=cca_data['time'])\n",
    "    model = LogisticRegression()\n",
    "    model.fit(X_censor, y_censor)\n",
    "\n",
    "    yt = pd.DataFrame(columns=['event', 'time'], data= yt)\n",
    "# Predict the probability of being censored\n",
    "    censor_prob = model.predict_proba(X_censor)[:, 1]\n",
    "    yt['weights'] = 1 / censor_prob\n",
    "    X_train, X_test, y_train, y_test = train_test_split(X_censor, yt, test_size=0.2, random_state=random_state)\n",
    "    yt_temp_train = Surv.from_arrays(event=y_train['event'], time=y_train['time'])\n",
    "    yt_temp_test = Surv.from_arrays(event=y_test['event'], time=y_test['time'])\n",
    "    rsf_ICPW = rsf.fit(X_train,yt_temp_train , np.asanyarray(y_train['weights'].values))\n",
    "\n",
    "    #results = test_metrics([rsf_ICPW], X_train,  yt_temp_train, X_test, yt_temp_test)\n",
    "   # plot = time_dependent_roc(rsf_ICPW,'ICPW', X_train,  yt_temp_train, X_test, yt_temp_test, cca_df)\n",
    "\n",
    "    #return results, plot\n",
    "    zipped_info = [rsf_ICPW, yt_temp_train, X_test, yt_temp_test]\n",
    "    return zipped_info\n"
   ]
  },
  {
   "cell_type": "markdown",
   "metadata": {},
   "source": [
    "# Plot all roc in one plot"
   ]
  },
  {
   "cell_type": "code",
   "execution_count": 20,
   "metadata": {},
   "outputs": [],
   "source": [
    "models = [basic_rsf, complete_case_analysis, icpw_model, imputation_model, stuart ]"
   ]
  },
  {
   "cell_type": "code",
   "execution_count": 23,
   "metadata": {},
   "outputs": [
    {
     "name": "stdout",
     "output_type": "stream",
     "text": [
      "(0.0066, 0.7146937842778793, [<matplotlib.lines.Line2D object at 0x3215abc10>])\n",
      "(0.0049, 0.7144036056624135, [<matplotlib.lines.Line2D object at 0x3215abf90>])\n",
      "(0.0066, 0.7146937842778793, [<matplotlib.lines.Line2D object at 0x3216b6a90>])\n",
      "(0.0055, 0.6865326633165829, [<matplotlib.lines.Line2D object at 0x3216e4d50>])\n"
     ]
    },
    {
     "name": "stderr",
     "output_type": "stream",
     "text": [
      "/var/folders/3_/fgr1pd0s4qd8st7r2b8wfqcr0000gn/T/ipykernel_27274/1296865797.py:108: SettingWithCopyWarning: \n",
      "A value is trying to be set on a copy of a slice from a DataFrame.\n",
      "Try using .loc[row_indexer,col_indexer] = value instead\n",
      "\n",
      "See the caveats in the documentation: https://pandas.pydata.org/pandas-docs/stable/user_guide/indexing.html#returning-a-view-versus-a-copy\n",
      "  observed['event'] = observed['event'].astype(bool)\n",
      "/var/folders/3_/fgr1pd0s4qd8st7r2b8wfqcr0000gn/T/ipykernel_27274/1296865797.py:109: SettingWithCopyWarning: \n",
      "A value is trying to be set on a copy of a slice from a DataFrame.\n",
      "Try using .loc[row_indexer,col_indexer] = value instead\n",
      "\n",
      "See the caveats in the documentation: https://pandas.pydata.org/pandas-docs/stable/user_guide/indexing.html#returning-a-view-versus-a-copy\n",
      "  censored['event'] = censored['event'].astype(bool)\n"
     ]
    },
    {
     "name": "stdout",
     "output_type": "stream",
     "text": [
      "Iteration 1: No confident predictions added.\n",
      "(0.0056, 0.7084500902920481, [<matplotlib.lines.Line2D object at 0x32159b890>])\n"
     ]
    },
    {
     "data": {
      "image/png": "[encoded data removed]",
      "text/plain": [
       "<Figure size 640x480 with 1 Axes>"
      ]
     },
     "metadata": {},
     "output_type": "display_data"
    }
   ],
   "source": [
    "\n",
    "for model in models:\n",
    "    print(metrics(model(df)))\n",
    "plt.xlabel(\"Days after Enrollment\")\n",
    "plt.ylabel(\"Time-dependent AUC\")\n",
    "plt.legend(loc=\"lower center\")\n",
    "plt.grid(True)\n",
    "plt.show()\n",
    "\n"
   ]
  },
  {
   "cell_type": "markdown",
   "metadata": {},
   "source": [
    "# real world data"
   ]
  },
  {
   "cell_type": "code",
   "execution_count": null,
   "metadata": {},
   "outputs": [],
   "source": [
    "surival_data = pd.read_csv()"
   ]
  }
 ],
 "metadata": {
  "kernelspec": {
   "display_name": "datascience",
   "language": "python",
   "name": "python3"
  },
  "language_info": {
   "codemirror_mode": {
    "name": "ipython",
    "version": 3
   },
   "file_extension": ".py",
   "mimetype": "text/x-python",
   "name": "python",
   "nbconvert_exporter": "python",
   "pygments_lexer": "ipython3",
   "version": "3.11.5"
  }
 },
 "nbformat": 4,
 "nbformat_minor": 2
}
